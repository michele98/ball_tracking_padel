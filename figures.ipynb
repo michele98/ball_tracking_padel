{
 "cells": [
  {
   "cell_type": "code",
   "execution_count": null,
   "metadata": {},
   "outputs": [],
   "source": [
    "import os\n",
    "import cv2\n",
    "import numpy as np\n",
    "import matplotlib.pyplot as plt\n",
    "\n",
    "import torch\n",
    "\n",
    "# figures_folder = 'figures'\n",
    "figures_folder = '../TFM/pictures'\n",
    "\n",
    "if not os.path.exists(figures_folder):\n",
    "    os.makedirs(figures_folder)\n",
    "\n",
    "plt.style.use('default')"
   ]
  },
  {
   "attachments": {},
   "cell_type": "markdown",
   "metadata": {},
   "source": [
    "# Examples for input and output"
   ]
  },
  {
   "attachments": {},
   "cell_type": "markdown",
   "metadata": {},
   "source": [
    "**Visualization of input frames and heatmap**"
   ]
  },
  {
   "cell_type": "code",
   "execution_count": null,
   "metadata": {},
   "outputs": [],
   "source": [
    "from train_configurations.utils import get_standard_test_dataset\n",
    "from train_configurations import tracknet_v2\n",
    "from detection.testing import _get_checkpoint_filename, _get_results_folder\n",
    "\n",
    "# load model from the desired train configuration\n",
    "config = tracknet_v2.Config()\n",
    "dataset = get_standard_test_dataset(tracknet_v2, 'prova')\n",
    "model = config.get_model()\n",
    "model.eval()\n",
    "\n",
    "results_folder = _get_results_folder(config._checkpoint_folder, None)\n",
    "checkpoint_path = os.path.join(results_folder, _get_checkpoint_filename(config._checkpoint_folder))\n",
    "\n",
    "model.load(checkpoint_path)"
   ]
  },
  {
   "attachments": {},
   "cell_type": "markdown",
   "metadata": {},
   "source": [
    "Compute heatmap for an example frame"
   ]
  },
  {
   "cell_type": "code",
   "execution_count": null,
   "metadata": {},
   "outputs": [],
   "source": [
    "len(dataset)"
   ]
  },
  {
   "cell_type": "code",
   "execution_count": null,
   "metadata": {},
   "outputs": [],
   "source": [
    "dataset_element = 15\n",
    "\n",
    "with torch.no_grad():\n",
    "    frames, heatmap = dataset[dataset_element]\n",
    "    frames = frames.to(torch.float32)\n",
    "\n",
    "    heatmap_pred = model(frames.unsqueeze(0)).squeeze().numpy()\n",
    "\n",
    "    heatmap = heatmap.to(torch.float32).squeeze().numpy()\n",
    "    frames = frames.numpy().transpose(1, 2, 0)\n",
    "\n",
    "frames = [frames[:,:,3*i:3*(i+1)] for i in range(3)]"
   ]
  },
  {
   "cell_type": "code",
   "execution_count": null,
   "metadata": {},
   "outputs": [],
   "source": [
    "w, h, dpi = 2*640, 2*360, 100\n",
    "fig, axs = plt.subplots(figsize=(w/dpi, h/dpi), dpi=dpi, nrows=2, ncols=2)\n",
    "axs = axs.ravel()\n",
    "\n",
    "for i, (frame, ax) in enumerate(zip(frames, axs)):\n",
    "    ax.set_title(f'Frame {i+1}')\n",
    "    ax.imshow(frame)\n",
    "\n",
    "    x = dataset._label_df['x'][i+dataset_element]\n",
    "    y = dataset._label_df['y'][i+dataset_element]\n",
    "    ax.scatter(x*frame.shape[1], y*frame.shape[0], zorder=100, facecolors='none', edgecolors='y', linewidths=3, s=150)\n",
    "\n",
    "axs[3].imshow(heatmap, cmap='gray')\n",
    "axs[3].set_title('Target heatmap')\n",
    "\n",
    "fig.tight_layout()\n",
    "\n",
    "fig.savefig(os.path.join(figures_folder, 'sample_input_a.png'))\n",
    "\n",
    "plt.show()"
   ]
  },
  {
   "cell_type": "code",
   "execution_count": null,
   "metadata": {},
   "outputs": [],
   "source": [
    "w, h, dpi = 640, 360, 100\n",
    "fig, ax = plt.subplots(figsize=(w/dpi, h/dpi), dpi=dpi)\n",
    "\n",
    "ax.imshow(frames[-1], cmap='gray')\n",
    "ax.imshow(heatmap, cmap='gray', alpha=0.5)\n",
    "\n",
    "ax.set_axis_off()\n",
    "fig.tight_layout(pad=0)\n",
    "\n",
    "fig.savefig(os.path.join(figures_folder, 'sample_input_b.png'))\n",
    "\n",
    "plt.show()"
   ]
  },
  {
   "attachments": {},
   "cell_type": "markdown",
   "metadata": {},
   "source": [
    "# Training history"
   ]
  },
  {
   "cell_type": "code",
   "execution_count": null,
   "metadata": {},
   "outputs": [],
   "source": [
    "import numpy as np\n",
    "\n",
    "import matplotlib.pyplot as plt"
   ]
  },
  {
   "cell_type": "code",
   "execution_count": null,
   "metadata": {},
   "outputs": [],
   "source": [
    "np.array([0, 1])"
   ]
  },
  {
   "cell_type": "code",
   "execution_count": null,
   "metadata": {},
   "outputs": [],
   "source": []
  },
  {
   "cell_type": "code",
   "execution_count": null,
   "metadata": {},
   "outputs": [],
   "source": []
  }
 ],
 "metadata": {
  "kernelspec": {
   "display_name": "pytorch",
   "language": "python",
   "name": "python3"
  },
  "language_info": {
   "codemirror_mode": {
    "name": "ipython",
    "version": 3
   },
   "file_extension": ".py",
   "mimetype": "text/x-python",
   "name": "python",
   "nbconvert_exporter": "python",
   "pygments_lexer": "ipython3",
   "version": "3.9.7"
  },
  "orig_nbformat": 4,
  "vscode": {
   "interpreter": {
    "hash": "6fc0ed74a087944f7d4394f4d91ee1483def030b33d45c86fb544dde79387957"
   }
  }
 },
 "nbformat": 4,
 "nbformat_minor": 2
}

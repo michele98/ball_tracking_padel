{
 "cells": [
  {
   "cell_type": "code",
   "execution_count": null,
   "metadata": {},
   "outputs": [],
   "source": [
    "import os\n",
    "\n",
    "from trajectories.visualization import create_trajectory_video\n",
    "from train_configurations import tracknet_v2\n",
    "\n",
    "output_dir = './videos'\n",
    "if not os.path.exists:\n",
    "    os.makedirs(output_dir)\n",
    "\n",
    "%load_ext autoreload\n",
    "%autoreload 2"
   ]
  },
  {
   "cell_type": "code",
   "execution_count": null,
   "metadata": {},
   "outputs": [],
   "source": [
    "filename = 'tracknet_v2_val_1_hm.mp4'\n",
    "create_trajectory_video(os.path.join(output_dir, filename), tracknet_v2, show_heatmaps=True, split='val_1')"
   ]
  },
  {
   "cell_type": "code",
   "execution_count": null,
   "metadata": {},
   "outputs": [],
   "source": [
    "filename = 'tracknet_v2_val_1.mp4'\n",
    "create_trajectory_video(os.path.join(output_dir, filename), tracknet_v2, show_heatmaps=False, split='val_1')"
   ]
  },
  {
   "cell_type": "code",
   "execution_count": null,
   "metadata": {},
   "outputs": [],
   "source": [
    "filename = 'tracknet_v2_test_standard_hm.mp4'\n",
    "create_trajectory_video(os.path.join(output_dir, filename), tracknet_v2, show_heatmaps=True, split='test_standard')"
   ]
  },
  {
   "cell_type": "code",
   "execution_count": null,
   "metadata": {},
   "outputs": [],
   "source": [
    "filename = 'tracknet_v2_test_standard.mp4'\n",
    "create_trajectory_video(os.path.join(output_dir, filename), tracknet_v2, show_heatmaps=False, split='test_standard')"
   ]
  }
 ],
 "metadata": {
  "kernelspec": {
   "display_name": "pytorch",
   "language": "python",
   "name": "python3"
  },
  "language_info": {
   "codemirror_mode": {
    "name": "ipython",
    "version": 3
   },
   "file_extension": ".py",
   "mimetype": "text/x-python",
   "name": "python",
   "nbconvert_exporter": "python",
   "pygments_lexer": "ipython3",
   "version": "3.9.7"
  },
  "orig_nbformat": 4
 },
 "nbformat": 4,
 "nbformat_minor": 2
}

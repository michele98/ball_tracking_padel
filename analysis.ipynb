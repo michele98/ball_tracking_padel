{
 "cells": [
  {
   "cell_type": "code",
   "execution_count": null,
   "metadata": {},
   "outputs": [],
   "source": [
    "import os\n",
    "import numpy as np\n",
    "import pandas as pd\n",
    "import matplotlib.pyplot as plt\n",
    "from detection.visualization import show_loss_history\n",
    "\n",
    "%load_ext autoreload\n",
    "%autoreload 2"
   ]
  },
  {
   "attachments": {},
   "cell_type": "markdown",
   "metadata": {},
   "source": [
    "# Analyze results"
   ]
  },
  {
   "attachments": {},
   "cell_type": "markdown",
   "metadata": {},
   "source": [
    "## Read results DataFrame and compute position error"
   ]
  },
  {
   "cell_type": "code",
   "execution_count": null,
   "metadata": {},
   "outputs": [],
   "source": [
    "root = 'checkpoints'\n",
    "\n",
    "results_folders = ['tracknet_v2_rnn_360_640/phase_2_0/checkpoint_0005_results/',\n",
    "                   'tracknet_v2_rnn_360_640/phase_2_1/checkpoint_0005_results/',\n",
    "                   'tracknet_v2_rnn_360_640/phase_3_0/checkpoint_0002_results/',\n",
    "                   'tracknet_v2_mse_360_640/checkpoint_0027_results/',\n",
    "                   'tracknet_v2_mse_360_640_4f/checkpoint_0020_results/',\n",
    "                   'tracknet_v2_mse_360_640_2f/checkpoint_0019_results/',\n",
    "                   ]\n",
    "\n",
    "errors = [] # list of square errors for each\n",
    "max_values = []\n",
    "image_size = (360, 640)\n",
    "\n",
    "for folder in results_folders:\n",
    "    df_out = pd.read_csv(os.path.join(root, folder, 'output_val.csv'))\n",
    "    max_value = df_out['max_values'].values\n",
    "    max_values.append(max_value)\n",
    "\n",
    "    x_true, x_pred, y_true, y_pred = [df_out[k].values for k in ['x_true', 'x_pred', 'y_true', 'y_pred']]\n",
    "    error = (np.sqrt((image_size[1] * (x_true-x_pred))**2 + (image_size[0] * (y_true-y_pred))**2))\n",
    "    errors.append(error)"
   ]
  },
  {
   "cell_type": "code",
   "execution_count": null,
   "metadata": {},
   "outputs": [],
   "source": [
    "df = pd.DataFrame({'max_value': np.concatenate(max_values), 'error': np.concatenate(errors), 'model': [str(i) for i in range(len(errors)) for _ in range(len(errors[0]))]})"
   ]
  },
  {
   "cell_type": "code",
   "execution_count": null,
   "metadata": {},
   "outputs": [],
   "source": [
    "import seaborn as sns\n",
    "\n",
    "i = -2\n",
    "# sns.kdeplot(x=max_values[i], y=errors[i], fill=True, cmap='mako', levels=100, thresh=0, clip=((0,1), (0,15)))\n",
    "sns.histplot(x=max_values[i], y=errors[i], bins=(np.linspace(0, 1, 50), np.arange(15)))\n",
    "\n",
    "plt.show()"
   ]
  },
  {
   "attachments": {},
   "cell_type": "markdown",
   "metadata": {},
   "source": [
    "## Analyze error"
   ]
  },
  {
   "cell_type": "code",
   "execution_count": null,
   "metadata": {},
   "outputs": [],
   "source": [
    "thresholds = [1, 5, 10]\n",
    "\n",
    "summary = []\n",
    "for folder, error in zip(results_folders, errors):\n",
    "    result = {'folder': folder,\n",
    "              'mean': np.mean(error),\n",
    "              'std': np.std(error),\n",
    "              'median': np.median(error)}\n",
    "\n",
    "    hist, bins = np.histogram(error, bins=np.arange(np.max(error)), density=True)\n",
    "    for t in thresholds:\n",
    "        result[f'{t} px'] = hist[:t].sum()\n",
    "\n",
    "    summary.append(result)\n",
    "\n",
    "pd.DataFrame(summary)"
   ]
  },
  {
   "cell_type": "code",
   "execution_count": null,
   "metadata": {},
   "outputs": [],
   "source": [
    "def print_summary(summary: dict):\n",
    "    for k, v in summary.items():\n",
    "        print_v = v\n",
    "        if 'px' in k:\n",
    "            print_v = f'{100*v:.2g}%'\n",
    "        elif k!='folder':\n",
    "            print_v = f'{v:.2g}'\n",
    "        print(f\"{k}: {print_v}\")\n",
    "\n",
    "hist_range = thresholds[-1]\n",
    "for s, error in zip(summary, errors):\n",
    "    print_summary(s)\n",
    "\n",
    "    plt.hist(error.clip(max=hist_range), bins=np.arange(hist_range+1), density=True, align='left', rwidth=0.8)\n",
    "    plt.ylim(0, 1)\n",
    "    plt.show()"
   ]
  }
 ],
 "metadata": {
  "kernelspec": {
   "display_name": "pytorch",
   "language": "python",
   "name": "python3"
  },
  "language_info": {
   "codemirror_mode": {
    "name": "ipython",
    "version": 3
   },
   "file_extension": ".py",
   "mimetype": "text/x-python",
   "name": "python",
   "nbconvert_exporter": "python",
   "pygments_lexer": "ipython3",
   "version": "3.9.7"
  },
  "orig_nbformat": 4,
  "vscode": {
   "interpreter": {
    "hash": "695c89e8d1a0e3ecb3b35b5172c9b51550f30a782fca086e9907470f1e458eec"
   }
  }
 },
 "nbformat": 4,
 "nbformat_minor": 2
}

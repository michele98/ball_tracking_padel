{
 "cells": [
  {
   "cell_type": "code",
   "execution_count": null,
   "metadata": {},
   "outputs": [],
   "source": [
    "import os\n",
    "import cv2\n",
    "import numpy as np\n",
    "import pandas as pd\n",
    "import matplotlib.pyplot as plt\n",
    "\n",
    "from utils.testing import save_labeled_video\n",
    "\n",
    "%load_ext autoreload\n",
    "%autoreload 2"
   ]
  },
  {
   "attachments": {},
   "cell_type": "markdown",
   "metadata": {},
   "source": [
    "# Analyze results"
   ]
  },
  {
   "attachments": {},
   "cell_type": "markdown",
   "metadata": {},
   "source": [
    "## Read results DataFrame"
   ]
  },
  {
   "cell_type": "code",
   "execution_count": null,
   "metadata": {},
   "outputs": [],
   "source": [
    "datasets_folder = '../datasets/'\n",
    "results_folder = './checkpoints/checkpoints_360_640_mse/checkpoint_0010_results/'\n",
    "df_out = pd.read_csv(os.path.join(results_folder, 'val_output.csv'))\n",
    "df_out"
   ]
  },
  {
   "attachments": {},
   "cell_type": "markdown",
   "metadata": {},
   "source": [
    "## Analyze error"
   ]
  },
  {
   "cell_type": "code",
   "execution_count": null,
   "metadata": {},
   "outputs": [],
   "source": [
    "image_size=(360, 640)\n",
    "\n",
    "error = np.sqrt((image_size[1]*(df_out['x_true']-df_out['x_pred']))**2 + (image_size[0]*(df_out['y_true']-df_out['y_pred']))**2)\n",
    "error = np.asarray(error)"
   ]
  },
  {
   "cell_type": "code",
   "execution_count": null,
   "metadata": {},
   "outputs": [],
   "source": [
    "threshold = 5\n",
    "print(f\"Error smaller than {threshold} pixels: {100*len(np.nonzero(error<=threshold)[0])/len(error):.2g}%\")\n",
    "\n",
    "hist_range = 15\n",
    "plt.hist(error.clip(max=hist_range), bins=np.arange(hist_range+1), density=True, align='left', rwidth=0.8)\n",
    "plt.show()"
   ]
  },
  {
   "attachments": {},
   "cell_type": "markdown",
   "metadata": {},
   "source": [
    "## Save output video with heatmap"
   ]
  },
  {
   "cell_type": "code",
   "execution_count": null,
   "metadata": {},
   "outputs": [],
   "source": [
    "save_labeled_video(filename_src=os.path.join(datasets_folder, 'dataset_finales_2020_en/video.mp4'),\n",
    "                   filename_dst='finales_val_annotated_gt_heatmap.mp4',\n",
    "                   position_df=df_out.loc[df_out['dataset_id']==0],\n",
    "                   show_ground_truth=True,\n",
    "                   heatmaps_folder=os.path.join(results_folder, 'heatmaps'))"
   ]
  },
  {
   "cell_type": "code",
   "execution_count": null,
   "metadata": {},
   "outputs": [],
   "source": [
    "save_labeled_video(filename_src=os.path.join(datasets_folder, 'dataset_lluis/game5/video.mp4'),\n",
    "                   filename_dst='game5_annotated_gt_heatmap.mp4',\n",
    "                   position_df=df_out.loc[df_out['dataset_id']==1],\n",
    "                   show_ground_truth=True,\n",
    "                   heatmaps_folder=os.path.join(results_folder, 'heatmaps'))"
   ]
  },
  {
   "cell_type": "code",
   "execution_count": null,
   "metadata": {},
   "outputs": [],
   "source": []
  },
  {
   "cell_type": "code",
   "execution_count": null,
   "metadata": {},
   "outputs": [],
   "source": []
  },
  {
   "cell_type": "code",
   "execution_count": null,
   "metadata": {},
   "outputs": [],
   "source": [
    "from torchvision.models import regnet_y_400mf, RegNet_Y_400MF_Weights"
   ]
  },
  {
   "cell_type": "code",
   "execution_count": null,
   "metadata": {},
   "outputs": [],
   "source": [
    "model = regnet_y_400mf(num_classes=1000, weights=RegNet_Y_400MF_Weights.DEFAULT)"
   ]
  },
  {
   "cell_type": "code",
   "execution_count": null,
   "metadata": {},
   "outputs": [],
   "source": [
    "import torch.nn as nn\n",
    "model.fc = nn.Linear(in_features=440, out_features=2, bias=True)"
   ]
  },
  {
   "cell_type": "code",
   "execution_count": null,
   "metadata": {},
   "outputs": [],
   "source": [
    "model"
   ]
  }
 ],
 "metadata": {
  "kernelspec": {
   "display_name": "pytorch",
   "language": "python",
   "name": "python3"
  },
  "language_info": {
   "codemirror_mode": {
    "name": "ipython",
    "version": 3
   },
   "file_extension": ".py",
   "mimetype": "text/x-python",
   "name": "python",
   "nbconvert_exporter": "python",
   "pygments_lexer": "ipython3",
   "version": "3.9.7"
  },
  "orig_nbformat": 4,
  "vscode": {
   "interpreter": {
    "hash": "695c89e8d1a0e3ecb3b35b5172c9b51550f30a782fca086e9907470f1e458eec"
   }
  }
 },
 "nbformat": 4,
 "nbformat_minor": 2
}

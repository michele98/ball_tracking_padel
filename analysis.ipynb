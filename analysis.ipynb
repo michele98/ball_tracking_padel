{
 "cells": [
  {
   "cell_type": "code",
   "execution_count": 2,
   "metadata": {},
   "outputs": [],
   "source": [
    "import os\n",
    "import cv2\n",
    "import numpy as np\n",
    "import pandas as pd\n",
    "import matplotlib.pyplot as plt\n",
    "\n",
    "from utils.testing import save_labeled_video\n",
    "\n",
    "%load_ext autoreload\n",
    "%autoreload 2"
   ]
  },
  {
   "attachments": {},
   "cell_type": "markdown",
   "metadata": {},
   "source": [
    "# Analyze results"
   ]
  },
  {
   "attachments": {},
   "cell_type": "markdown",
   "metadata": {},
   "source": [
    "## Read results DataFrame"
   ]
  },
  {
   "cell_type": "code",
   "execution_count": 3,
   "metadata": {},
   "outputs": [],
   "source": [
    "results_folder = './checkpoints/checkpoints_360_640_mse/checkpoint_0010_results/'\n",
    "df_out = pd.read_csv(os.path.join(results_folder, 'val_output.csv'))"
   ]
  },
  {
   "cell_type": "code",
   "execution_count": 5,
   "metadata": {},
   "outputs": [
    {
     "data": {
      "text/html": [
       "<div>\n",
       "<style scoped>\n",
       "    .dataframe tbody tr th:only-of-type {\n",
       "        vertical-align: middle;\n",
       "    }\n",
       "\n",
       "    .dataframe tbody tr th {\n",
       "        vertical-align: top;\n",
       "    }\n",
       "\n",
       "    .dataframe thead th {\n",
       "        text-align: right;\n",
       "    }\n",
       "</style>\n",
       "<table border=\"1\" class=\"dataframe\">\n",
       "  <thead>\n",
       "    <tr style=\"text-align: right;\">\n",
       "      <th></th>\n",
       "      <th>dataset_id</th>\n",
       "      <th>frame_num</th>\n",
       "      <th>min_values</th>\n",
       "      <th>max_values</th>\n",
       "      <th>x_true</th>\n",
       "      <th>y_true</th>\n",
       "      <th>x_pred</th>\n",
       "      <th>y_pred</th>\n",
       "    </tr>\n",
       "  </thead>\n",
       "  <tbody>\n",
       "    <tr>\n",
       "      <th>0</th>\n",
       "      <td>0</td>\n",
       "      <td>14614</td>\n",
       "      <td>4.896332e-07</td>\n",
       "      <td>0.153187</td>\n",
       "      <td>0.187500</td>\n",
       "      <td>0.600000</td>\n",
       "      <td>0.181250</td>\n",
       "      <td>0.616667</td>\n",
       "    </tr>\n",
       "    <tr>\n",
       "      <th>1</th>\n",
       "      <td>0</td>\n",
       "      <td>14615</td>\n",
       "      <td>2.152525e-07</td>\n",
       "      <td>0.001734</td>\n",
       "      <td>0.167187</td>\n",
       "      <td>0.602778</td>\n",
       "      <td>0.998437</td>\n",
       "      <td>0.997222</td>\n",
       "    </tr>\n",
       "    <tr>\n",
       "      <th>2</th>\n",
       "      <td>0</td>\n",
       "      <td>14616</td>\n",
       "      <td>1.969889e-06</td>\n",
       "      <td>0.009495</td>\n",
       "      <td>0.151562</td>\n",
       "      <td>0.602778</td>\n",
       "      <td>0.154688</td>\n",
       "      <td>0.602778</td>\n",
       "    </tr>\n",
       "    <tr>\n",
       "      <th>3</th>\n",
       "      <td>0</td>\n",
       "      <td>14617</td>\n",
       "      <td>3.162235e-08</td>\n",
       "      <td>0.006769</td>\n",
       "      <td>0.131250</td>\n",
       "      <td>0.611111</td>\n",
       "      <td>0.137500</td>\n",
       "      <td>0.605556</td>\n",
       "    </tr>\n",
       "    <tr>\n",
       "      <th>4</th>\n",
       "      <td>0</td>\n",
       "      <td>14618</td>\n",
       "      <td>4.621421e-08</td>\n",
       "      <td>0.007118</td>\n",
       "      <td>0.112500</td>\n",
       "      <td>0.616667</td>\n",
       "      <td>0.112500</td>\n",
       "      <td>0.613889</td>\n",
       "    </tr>\n",
       "    <tr>\n",
       "      <th>...</th>\n",
       "      <td>...</td>\n",
       "      <td>...</td>\n",
       "      <td>...</td>\n",
       "      <td>...</td>\n",
       "      <td>...</td>\n",
       "      <td>...</td>\n",
       "      <td>...</td>\n",
       "      <td>...</td>\n",
       "    </tr>\n",
       "    <tr>\n",
       "      <th>2842</th>\n",
       "      <td>1</td>\n",
       "      <td>5030</td>\n",
       "      <td>1.065431e-06</td>\n",
       "      <td>0.935209</td>\n",
       "      <td>0.525000</td>\n",
       "      <td>0.738889</td>\n",
       "      <td>0.525000</td>\n",
       "      <td>0.738889</td>\n",
       "    </tr>\n",
       "    <tr>\n",
       "      <th>2843</th>\n",
       "      <td>1</td>\n",
       "      <td>5031</td>\n",
       "      <td>8.761145e-07</td>\n",
       "      <td>0.967830</td>\n",
       "      <td>0.529687</td>\n",
       "      <td>0.747222</td>\n",
       "      <td>0.528125</td>\n",
       "      <td>0.747222</td>\n",
       "    </tr>\n",
       "    <tr>\n",
       "      <th>2844</th>\n",
       "      <td>1</td>\n",
       "      <td>5032</td>\n",
       "      <td>6.991232e-07</td>\n",
       "      <td>0.953655</td>\n",
       "      <td>0.532813</td>\n",
       "      <td>0.752778</td>\n",
       "      <td>0.532813</td>\n",
       "      <td>0.752778</td>\n",
       "    </tr>\n",
       "    <tr>\n",
       "      <th>2845</th>\n",
       "      <td>1</td>\n",
       "      <td>5033</td>\n",
       "      <td>6.252794e-07</td>\n",
       "      <td>0.939276</td>\n",
       "      <td>0.000000</td>\n",
       "      <td>0.000000</td>\n",
       "      <td>0.537500</td>\n",
       "      <td>0.752778</td>\n",
       "    </tr>\n",
       "    <tr>\n",
       "      <th>2846</th>\n",
       "      <td>1</td>\n",
       "      <td>5034</td>\n",
       "      <td>7.874431e-07</td>\n",
       "      <td>0.924126</td>\n",
       "      <td>0.000000</td>\n",
       "      <td>0.000000</td>\n",
       "      <td>0.540625</td>\n",
       "      <td>0.752778</td>\n",
       "    </tr>\n",
       "  </tbody>\n",
       "</table>\n",
       "<p>2847 rows × 8 columns</p>\n",
       "</div>"
      ],
      "text/plain": [
       "      dataset_id  frame_num    min_values  max_values    x_true    y_true  \\\n",
       "0              0      14614  4.896332e-07    0.153187  0.187500  0.600000   \n",
       "1              0      14615  2.152525e-07    0.001734  0.167187  0.602778   \n",
       "2              0      14616  1.969889e-06    0.009495  0.151562  0.602778   \n",
       "3              0      14617  3.162235e-08    0.006769  0.131250  0.611111   \n",
       "4              0      14618  4.621421e-08    0.007118  0.112500  0.616667   \n",
       "...          ...        ...           ...         ...       ...       ...   \n",
       "2842           1       5030  1.065431e-06    0.935209  0.525000  0.738889   \n",
       "2843           1       5031  8.761145e-07    0.967830  0.529687  0.747222   \n",
       "2844           1       5032  6.991232e-07    0.953655  0.532813  0.752778   \n",
       "2845           1       5033  6.252794e-07    0.939276  0.000000  0.000000   \n",
       "2846           1       5034  7.874431e-07    0.924126  0.000000  0.000000   \n",
       "\n",
       "        x_pred    y_pred  \n",
       "0     0.181250  0.616667  \n",
       "1     0.998437  0.997222  \n",
       "2     0.154688  0.602778  \n",
       "3     0.137500  0.605556  \n",
       "4     0.112500  0.613889  \n",
       "...        ...       ...  \n",
       "2842  0.525000  0.738889  \n",
       "2843  0.528125  0.747222  \n",
       "2844  0.532813  0.752778  \n",
       "2845  0.537500  0.752778  \n",
       "2846  0.540625  0.752778  \n",
       "\n",
       "[2847 rows x 8 columns]"
      ]
     },
     "execution_count": 5,
     "metadata": {},
     "output_type": "execute_result"
    }
   ],
   "source": [
    "df_out"
   ]
  },
  {
   "attachments": {},
   "cell_type": "markdown",
   "metadata": {},
   "source": [
    "## Save output video with heatmap"
   ]
  },
  {
   "cell_type": "code",
   "execution_count": 8,
   "metadata": {},
   "outputs": [
    {
     "name": "stdout",
     "output_type": "stream",
     "text": [
      "writing frame 20 of 20                                                          \n",
      "Finished frames.\n",
      "done.\n"
     ]
    }
   ],
   "source": [
    "save_labeled_video(filename_src='../datasets/dataset_finales_2020_en/video.mp4',\n",
    "                   filename_dst='finales_val_annotated_gt_heatmap.mp4',\n",
    "                   position_df=df_out.loc[df_out['dataset_id']==0],\n",
    "                   show_ground_truth=True,\n",
    "                   heatmaps_folder='checkpoints/checkpoints_360_640_mse/checkpoint_0010_results/heatmaps')"
   ]
  },
  {
   "cell_type": "code",
   "execution_count": 10,
   "metadata": {},
   "outputs": [
    {
     "name": "stdout",
     "output_type": "stream",
     "text": [
      "writing frame 4229 of 4229                                                      \n",
      "Finished frames.\n",
      "done.\n"
     ]
    }
   ],
   "source": [
    "save_labeled_video(filename_src='../datasets/dataset_lluis/game5/video.mp4',\n",
    "                   filename_dst='game5_annotated_gt_heatmap.mp4',\n",
    "                   position_df=df_out.loc[df_out['dataset_id']==1],\n",
    "                   show_ground_truth=True,\n",
    "                   heatmaps_folder='checkpoints/checkpoints_360_640_mse/checkpoint_0010_results/heatmaps')"
   ]
  }
 ],
 "metadata": {
  "kernelspec": {
   "display_name": "pytorch",
   "language": "python",
   "name": "python3"
  },
  "language_info": {
   "codemirror_mode": {
    "name": "ipython",
    "version": 3
   },
   "file_extension": ".py",
   "mimetype": "text/x-python",
   "name": "python",
   "nbconvert_exporter": "python",
   "pygments_lexer": "ipython3",
   "version": "3.9.7"
  },
  "orig_nbformat": 4,
  "vscode": {
   "interpreter": {
    "hash": "695c89e8d1a0e3ecb3b35b5172c9b51550f30a782fca086e9907470f1e458eec"
   }
  }
 },
 "nbformat": 4,
 "nbformat_minor": 2
}

{
 "cells": [
  {
   "cell_type": "code",
   "execution_count": null,
   "metadata": {},
   "outputs": [],
   "source": [
    "import os\n",
    "import cv2\n",
    "import time\n",
    "import numpy as np\n",
    "import pandas as pd\n",
    "import matplotlib.pyplot as plt\n",
    "from functools import partial\n",
    "plt.style.use('default')\n",
    "\n",
    "import torch\n",
    "import torch.nn.functional as F\n",
    "from torch.utils.data import DataLoader\n",
    "from torchvision.transforms import ToTensor\n",
    "\n",
    "from detection.dataset import VideoDataset, MyConcatDataset, VideoDatasetRNN\n",
    "from detection.models import TrackNetV2MSE, TrackNetV2NLL, TrackNetV2RNN\n",
    "from detection.training import train_model\n",
    "from detection.testing import get_local_maxima\n",
    "\n",
    "# device = torch.device('cuda' if torch.cuda.is_available() else 'cpu')\n",
    "# print(device)\n",
    "\n",
    "%load_ext autoreload\n",
    "%autoreload 2"
   ]
  },
  {
   "attachments": {},
   "cell_type": "markdown",
   "metadata": {},
   "source": [
    "# Trajectory analysis with RANSAC on heatmaps"
   ]
  },
  {
   "cell_type": "code",
   "execution_count": null,
   "metadata": {},
   "outputs": [],
   "source": [
    "from detection.testing import get_local_maxima\n",
    "\n",
    "# heatmaps_folder = './checkpoints/tracknet_v2_rnn_360_640/phase_3_0/checkpoint_0002_results/heatmaps_test_standard'\n",
    "heatmaps_folder = './checkpoints/tracknet_v2_mse_360_640/checkpoint_0027_results/heatmaps_test_standard'\n",
    "\n",
    "N = 300\n",
    "# center_frame = 100\n",
    "\n",
    "# frame_indices = np.arange(center_frame-N, center_frame+N+1)\n",
    "frame_indices = np.arange(2*N+1)\n",
    "\n",
    "heatmaps = np.zeros((len(frame_indices), 360, 640))\n",
    "for k_seed, frame_index in enumerate(frame_indices):\n",
    "    heatmaps[k_seed] = cv2.imread(os.path.join(heatmaps_folder, f\"{frame_index}\".zfill(6)+'.png'), cv2.IMREAD_GRAYSCALE)/255\n",
    "\n",
    "cap = cv2.VideoCapture(\"../datasets/test_standard/video.mp4\")\n",
    "cap.set(cv2.CAP_PROP_POS_FRAMES, frame_indices[0]+5)\n",
    "\n",
    "frames = np.zeros((len(frame_indices), 360, 640, 3), dtype=np.uint8)\n",
    "for k_seed, frame_index in enumerate(frame_indices):\n",
    "    ret, frame = cap.read()\n",
    "    if not ret:\n",
    "        print(\"Failed to read frame\")\n",
    "        break\n",
    "    frames[k_seed] = cv2.cvtColor(cv2.resize(frame, (640, 360)), cv2.COLOR_BGR2RGB)\n",
    "cap.release()"
   ]
  },
  {
   "cell_type": "code",
   "execution_count": null,
   "metadata": {},
   "outputs": [],
   "source": [
    "max_num_candidates = 20                # maximum supported number of candidates for each frame\n",
    "n_candidates = np.zeros(len(heatmaps), dtype=int) # number of candidates for each frame\n",
    "\n",
    "candidates = np.zeros((len(heatmaps), max_num_candidates, 2))  # candidates array\n",
    "for k_seed in range(len(heatmaps)):\n",
    "    m = get_local_maxima(heatmaps[k_seed], threshold=0.1, sigma=0.5, include_diagonal=True)\n",
    "    candidates[k_seed, :len(m)] = m[:max_num_candidates]\n",
    "    n_candidates[k_seed] = min(len(m), max_num_candidates)"
   ]
  },
  {
   "cell_type": "code",
   "execution_count": null,
   "metadata": {},
   "outputs": [],
   "source": [
    "k_seed = 60\n",
    "plt.imshow(frames[k_seed])\n",
    "plt.imshow(heatmaps[k_seed], cmap='gray', alpha=0.7)\n",
    "plt.scatter(candidates[k_seed][:,1], candidates[k_seed][:,0], s=4, c='r')\n",
    "\n",
    "plt.show()"
   ]
  },
  {
   "attachments": {},
   "cell_type": "markdown",
   "metadata": {},
   "source": [
    "## Fit model"
   ]
  },
  {
   "cell_type": "code",
   "execution_count": null,
   "metadata": {},
   "outputs": [],
   "source": [
    "from trajectory_fitting import *"
   ]
  },
  {
   "cell_type": "code",
   "execution_count": null,
   "metadata": {},
   "outputs": [],
   "source": [
    "def show_fit(background, trajectory, candidates, k_seed, k_min, k_mid, k_max, i_seed, i_min, i_mid, i_max):\n",
    "    plt.imshow(background, zorder=-2)\n",
    "\n",
    "    # trajectory\n",
    "    k = np.arange(len(trajectory)) + k_seed - (len(trajectory)-1)//2\n",
    "    plt.plot(trajectory[k<=k_min,1],trajectory[k<=k_min,0], 'y.-', zorder=-1, alpha=0.2)\n",
    "    plt.plot(trajectory[k>=k_max,1],trajectory[k>=k_max,0], 'y.-', zorder=-1, alpha=0.2)\n",
    "    mask = np.logical_and(k>=k_min, k<=k_max)\n",
    "    plt.plot(trajectory[mask,1],trajectory[mask,0], 'y.-', zorder=-1, alpha=0.8)\n",
    "\n",
    "    # support and seed\n",
    "    plt.scatter(candidates[k_min, i_min, 1], candidates[k_min, i_min, 0], c='w', marker='^')\n",
    "    plt.scatter(candidates[k_mid, i_mid, 1], candidates[k_mid, i_mid, 0], c='w')\n",
    "    plt.scatter(candidates[k_max, i_max, 1], candidates[k_max, i_max, 0], c='w', marker='s')\n",
    "    plt.scatter(candidates[k_seed, i_seed, 1], candidates[k_seed, i_seed, 0], c='k', s=5)\n",
    "\n",
    "    plt.xlim(0, 640)\n",
    "    plt.ylim(360, 0)\n",
    "    plt.show()\n"
   ]
  },
  {
   "cell_type": "code",
   "execution_count": null,
   "metadata": {},
   "outputs": [],
   "source": [
    "# k_seed = 60a\n",
    "# k_seed = 94\n",
    "\n",
    "k_min = []\n",
    "k_max = []\n",
    "# TODO: check overlap of path supports\n",
    "\n",
    "info_keys = ['k_seed','k_min','k_mid','k_max','i_seed','i_min','i_mid','i_max','iterations']\n",
    "l2i = {key: i for i, key in enumerate(info_keys)}\n",
    "\n",
    "t = time.time()\n",
    "for k in range(50, 60):\n",
    "    k_seed = k\n",
    "\n",
    "    d_threshold = 5\n",
    "    seed_radius = 20\n",
    "\n",
    "    N = 30\n",
    "\n",
    "    parameters, info, trajectories, costs = fit_trajectories(candidates, n_candidates, k_seed, seed_radius, d_threshold, N)\n",
    "    \n",
    "    if costs is None:\n",
    "        print(f\"Seed frame: {k}\")\n",
    "        plt.imshow(frames[k])\n",
    "        plt.show()\n",
    "        continue\n",
    "\n",
    "\n",
    "    print(f\"Found {len(costs)} seed triplet(s)\")\n",
    "    s = np.argmin(costs)\n",
    "    print(f\"Seed frame: {info[s,l2i['k_seed']]}\")\n",
    "    print(f\"Used for fit: {info[s,l2i['k_min']]}, {info[s,l2i['k_mid']]}, {info[s,l2i['k_max']]}\")\n",
    "    print(f\"cost = {costs[s]}\")\n",
    "    print(f\"Iterations: {info[s,l2i['iterations']]}\")\n",
    "    print(f\"v = {parameters[s,0]}\")\n",
    "    print(f\"a = {parameters[s,1]}\")\n",
    "\n",
    "    show_fit(frames[info[s,l2i['k_min']]], trajectories[s], candidates,\n",
    "            *[info[s, l2i[key]] for key in info_keys[:-1]])\n",
    "    k_min.append(info[s, l2i['k_min']])\n",
    "    k_max.append(info[s, l2i['k_max']])\n",
    "t1 = time.time()\n",
    "print(f\"Execution time: {t1-t}\")\n"
   ]
  },
  {
   "attachments": {},
   "cell_type": "markdown",
   "metadata": {},
   "source": [
    "# Visualize some activations and kernels because why not"
   ]
  },
  {
   "cell_type": "code",
   "execution_count": null,
   "metadata": {},
   "outputs": [],
   "source": [
    "model = TrackNetV2RNN(sequence_length=4)\n",
    "model.load('checkpoints/tracknet_v2_rnn_360_640/phase_3_0/checkpoint_0002_best.ckpt')\n",
    "model.eval()\n",
    "model"
   ]
  },
  {
   "cell_type": "code",
   "execution_count": null,
   "metadata": {},
   "outputs": [],
   "source": [
    "dataset_params = dict(image_size=(360, 640),\n",
    "                      sequence_length=4,\n",
    "                      sigma=5,\n",
    "                      drop_duplicate_frames=False,\n",
    "                      transform = ToTensor(),\n",
    "                      target_transform = ToTensor(),\n",
    "                      grayscale=False)\n",
    "\n",
    "dataset = VideoDatasetRNN(root=\"../datasets/prova/\", **dataset_params)"
   ]
  },
  {
   "cell_type": "code",
   "execution_count": null,
   "metadata": {},
   "outputs": [],
   "source": [
    "counter = 0\n",
    "\n",
    "def get_encoding_layer(desired_block=1, subblock=0):\n",
    "    layers = []\n",
    "    for i, block in enumerate(model.children()):\n",
    "        # print(i)\n",
    "        if i%2 == 1:\n",
    "            layers.append(block)\n",
    "        for j, block_element in enumerate(block.children()):\n",
    "            #print(i, j)\n",
    "            for k, layer in enumerate(block_element.children()):\n",
    "                layers.append(layer)\n",
    "                # print(i, j, k)\n",
    "                if type(layer) is torch.nn.ReLU and i==2*desired_block and j==subblock:\n",
    "                    break\n",
    "            if type(layer) is torch.nn.ReLU and i==2*desired_block and j==subblock:\n",
    "                break\n",
    "        if type(layer) is torch.nn.ReLU and i==2*desired_block:\n",
    "            break\n",
    "    return layers\n",
    "\n",
    "def compute_activations(layers, input):\n",
    "    activation = input.unsqueeze(dim=0)\n",
    "    with torch.no_grad():\n",
    "        for l in layers:\n",
    "            activation = l(activation)\n",
    "\n",
    "    return activation.squeeze().numpy()"
   ]
  },
  {
   "cell_type": "code",
   "execution_count": null,
   "metadata": {},
   "outputs": [],
   "source": [
    "frames, labels = dataset[50]\n",
    "frames = frames.to(torch.float32)"
   ]
  },
  {
   "cell_type": "code",
   "execution_count": null,
   "metadata": {},
   "outputs": [],
   "source": [
    "w, h, dpi = 300*2*16/9, 300, 100\n",
    "\n",
    "fig, axs = plt.subplots(ncols=2, figsize=(w/dpi, h/dpi), dpi=dpi)\n",
    "\n",
    "axs[0].imshow(frames[-3:].numpy().transpose(1, 2, 0))\n",
    "axs[0].set_title(\"Input frame (last in sequence)\")\n",
    "\n",
    "axs[1].imshow(labels[0])\n",
    "axs[1].set_title(\"Ground truth\")\n",
    "\n",
    "fig.tight_layout(pad=0.2)\n",
    "plt.show()"
   ]
  },
  {
   "cell_type": "code",
   "execution_count": null,
   "metadata": {},
   "outputs": [],
   "source": [
    "noise_part = np.linspace(0, 1, 10)\n",
    "c = []\n",
    "\n",
    "for n in noise_part:\n",
    "    with torch.no_grad():\n",
    "        f = (1-n)*frames + n*torch.randn(frames.shape)\n",
    "        out = model(f.unsqueeze(dim=0)).squeeze().numpy()\n",
    "    c.append(out.max())\n",
    "plt.plot(noise_part, c)"
   ]
  },
  {
   "cell_type": "code",
   "execution_count": null,
   "metadata": {},
   "outputs": [],
   "source": [
    "n = 0.07\n",
    "with torch.no_grad():\n",
    "    f = (1-n)*frames + n*torch.randn(frames.shape)\n",
    "    out = model(f.unsqueeze(dim=0)).squeeze().numpy()\n",
    "plt.imshow(out)\n",
    "plt.colorbar()\n",
    "plt.show()"
   ]
  },
  {
   "cell_type": "code",
   "execution_count": null,
   "metadata": {},
   "outputs": [],
   "source": [
    "frames[:3] = torch.zeros(3, 360, 640)"
   ]
  },
  {
   "cell_type": "code",
   "execution_count": null,
   "metadata": {},
   "outputs": [],
   "source": [
    "block = 2\n",
    "subblock = 1\n",
    "\n",
    "activations = compute_activations(get_encoding_layer(block, subblock), frames)\n",
    "activations.shape"
   ]
  },
  {
   "cell_type": "code",
   "execution_count": null,
   "metadata": {},
   "outputs": [],
   "source": [
    "(dead_activations, ) = np.where(activations.max(axis=(1,2))==0)\n",
    "print(f\"Of {activations.shape[0]} activations, {dead_activations.size} are dead and {activations.shape[0]-dead_activations.size} are not.\")"
   ]
  },
  {
   "cell_type": "code",
   "execution_count": null,
   "metadata": {},
   "outputs": [],
   "source": [
    "height_pixels = 1080\n",
    "top_adjust = 1\n",
    "\n",
    "w, h, dpi = height_pixels*16/9*top_adjust, height_pixels, 100\n",
    "fig, axs = plt.subplots(nrows=8, ncols=8, figsize=(w/dpi, h/dpi), dpi=dpi)\n",
    "\n",
    "i_0 = 0\n",
    "\n",
    "for k, ax in enumerate(axs.ravel()):\n",
    "    ax.imshow(activations[k+i_0], cmap='gray')\n",
    "    # ax.set_title(i)\n",
    "    ax.set_axis_off()\n",
    "\n",
    "#fig.suptitle(f\"Activations in encoding block {block}, subblock {subblock}\")\n",
    "\n",
    "fig.tight_layout(pad=0.5)\n",
    "fig.subplots_adjust(top=top_adjust)\n",
    "\n",
    "#fig.savefig(f\"{block}_{subblock}.png\")\n",
    "\n",
    "plt.show()"
   ]
  },
  {
   "cell_type": "code",
   "execution_count": null,
   "metadata": {},
   "outputs": [],
   "source": [
    "model.state_dict().keys()"
   ]
  },
  {
   "cell_type": "code",
   "execution_count": null,
   "metadata": {},
   "outputs": [],
   "source": [
    "dk = 4\n",
    "\n",
    "kernels = model.state_dict()['vgg_conv1.1.0.weight'].numpy()\n",
    "biases = model.state_dict()['vgg_conv1.1.0.bias'].numpy()\n",
    "w, h, dpi = 800, 800, 100\n",
    "fig, axs = plt.subplots(nrows=8, ncols=8, figsize=(w/dpi, h/dpi), dpi=dpi)\n",
    "\n",
    "print(kernels.shape)\n",
    "print(biases[dk])\n",
    "\n",
    "min_val = kernels[dk].min()\n",
    "max_val = kernels[dk].max()\n",
    "print(min_val, max_val)\n",
    "\n",
    "max_val=max((max_val, -min_val))\n",
    "min_val=min((-max_val, min_val))\n",
    "\n",
    "for k, ax in enumerate(axs.ravel()):\n",
    "    ax.imshow(kernels[dk,k], cmap='RdBu', vmin=min_val, vmax=max_val)\n",
    "    ax.set_axis_off()\n",
    "\n",
    "#fig.suptitle(f\"Kernel {k}, bias = {biases[k]:.2g}\")\n",
    "fig.tight_layout(pad=0.2)\n",
    "plt.show()\n"
   ]
  }
 ],
 "metadata": {
  "kernelspec": {
   "display_name": "pytorch",
   "language": "python",
   "name": "python3"
  },
  "language_info": {
   "codemirror_mode": {
    "name": "ipython",
    "version": 3
   },
   "file_extension": ".py",
   "mimetype": "text/x-python",
   "name": "python",
   "nbconvert_exporter": "python",
   "pygments_lexer": "ipython3",
   "version": "3.9.7"
  },
  "orig_nbformat": 4,
  "vscode": {
   "interpreter": {
    "hash": "6fc0ed74a087944f7d4394f4d91ee1483def030b33d45c86fb544dde79387957"
   }
  }
 },
 "nbformat": 4,
 "nbformat_minor": 2
}

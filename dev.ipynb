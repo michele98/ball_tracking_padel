{
 "cells": [
  {
   "cell_type": "code",
   "execution_count": null,
   "metadata": {},
   "outputs": [],
   "source": [
    "import os\n",
    "import cv2\n",
    "import time\n",
    "import numpy as np\n",
    "import pandas as pd\n",
    "import matplotlib.pyplot as plt\n",
    "from functools import partial\n",
    "\n",
    "import torch\n",
    "import torch.nn.functional as F\n",
    "from torch.utils.data import DataLoader\n",
    "from torchvision.transforms import ToTensor\n",
    "\n",
    "from utils.dataset import VideoDataset, MyConcatDataset\n",
    "from utils.models import TrackNetV2MSE, TrackNetV2NLL\n",
    "from utils.training import train_model\n",
    "\n",
    "device = torch.device('cuda' if torch.cuda.is_available() else 'cpu')\n",
    "print(device)\n",
    "\n",
    "%load_ext autoreload\n",
    "%autoreload 2"
   ]
  },
  {
   "attachments": {},
   "cell_type": "markdown",
   "metadata": {},
   "source": [
    "# Dataset optimizations"
   ]
  },
  {
   "cell_type": "code",
   "execution_count": null,
   "metadata": {},
   "outputs": [],
   "source": [
    "dataset_params = dict(image_size=(360, 640),\n",
    "                      sequence_length=3,\n",
    "                      sigma=5,\n",
    "                      heatmap_mode='image',\n",
    "                      one_output_frame=True,\n",
    "                      drop_duplicate_frames=True,\n",
    "                      transform = ToTensor(),\n",
    "                      target_transform = ToTensor())\n",
    "\n",
    "dataset_params['preload_in_memory'] = True\n",
    "dataset = VideoDataset(root=\"../datasets/prova/\", duplicate_equality_threshold=1, **dataset_params)\n",
    "\n",
    "dataset_params['preload_in_memory'] = False\n",
    "dataset_2 = VideoDataset(root=\"../datasets/prova/\", duplicate_equality_threshold=1, **dataset_params)"
   ]
  },
  {
   "attachments": {},
   "cell_type": "markdown",
   "metadata": {},
   "source": [
    "Trying to find the bottleneck"
   ]
  },
  {
   "cell_type": "code",
   "execution_count": null,
   "metadata": {},
   "outputs": [],
   "source": [
    "t = time.time()\n",
    "for i in range(1000):\n",
    "    dataset._generate_heatmap(np.random.randint(749, 780))\n",
    "print(time.time()-t)"
   ]
  },
  {
   "cell_type": "code",
   "execution_count": null,
   "metadata": {},
   "outputs": [],
   "source": [
    "t = time.time()\n",
    "for i in range(1000):\n",
    "    dataset._get_heatmap(np.random.randint(749, 780))\n",
    "print(time.time()-t)\n",
    "\n",
    "t = time.time()\n",
    "for i in range(1000):\n",
    "    dataset_2._get_heatmap(np.random.randint(749, 780))\n",
    "print(time.time()-t)"
   ]
  },
  {
   "attachments": {},
   "cell_type": "markdown",
   "metadata": {},
   "source": [
    "Bottleneck is in the ToTensor() Transform"
   ]
  },
  {
   "cell_type": "code",
   "execution_count": null,
   "metadata": {},
   "outputs": [],
   "source": [
    "t = time.time()\n",
    "for i in range(100):\n",
    "    dataset[np.random.randint(0, 100)]\n",
    "print(time.time()-t)\n",
    "\n",
    "t = time.time()\n",
    "for i in range(10):\n",
    "    dataset_2[np.random.randint(0, 100)]\n",
    "print(time.time()-t)"
   ]
  },
  {
   "cell_type": "code",
   "execution_count": null,
   "metadata": {},
   "outputs": [],
   "source": [
    "t = time.time()\n",
    "for i in range(100):\n",
    "    dataset[np.random.randint(0, 100)]\n",
    "print(time.time()-t)\n",
    "\n",
    "t = time.time()\n",
    "for i in range(10):\n",
    "    dataset_2[np.random.randint(0, 100)]\n",
    "print(time.time()-t)"
   ]
  },
  {
   "cell_type": "code",
   "execution_count": null,
   "metadata": {},
   "outputs": [],
   "source": [
    "t = time.time()\n",
    "for i in range(100):\n",
    "    dataset[np.random.randint(0, 100)]\n",
    "print(time.time()-t)\n",
    "\n",
    "t = time.time()\n",
    "for i in range(10):\n",
    "    dataset_2[np.random.randint(0, 100)]\n",
    "print(time.time()-t)"
   ]
  },
  {
   "cell_type": "code",
   "execution_count": null,
   "metadata": {},
   "outputs": [],
   "source": [
    "frames, labels = dataset[0]\n",
    "frame1 = frames[0]\n",
    "\n",
    "frames, labels = dataset[10]\n",
    "frame2 = frames[0]"
   ]
  },
  {
   "cell_type": "code",
   "execution_count": null,
   "metadata": {},
   "outputs": [],
   "source": [
    "t = time.time()\n",
    "for i in range(1000):\n",
    "    dataset._equal_frames(frame1, frame2)\n",
    "print(time.time()-t)"
   ]
  },
  {
   "cell_type": "code",
   "execution_count": null,
   "metadata": {},
   "outputs": [],
   "source": []
  },
  {
   "cell_type": "code",
   "execution_count": null,
   "metadata": {},
   "outputs": [],
   "source": [
    "frames, labels = dataset[10]"
   ]
  },
  {
   "cell_type": "code",
   "execution_count": null,
   "metadata": {},
   "outputs": [],
   "source": [
    "plt.imshow(frames[:3].numpy().transpose(1, 2, 0))"
   ]
  },
  {
   "cell_type": "code",
   "execution_count": null,
   "metadata": {},
   "outputs": [],
   "source": [
    "plt.imshow(frames[:3].numpy().transpose(1, 2, 0))"
   ]
  }
 ],
 "metadata": {
  "kernelspec": {
   "display_name": "pytorch",
   "language": "python",
   "name": "python3"
  },
  "language_info": {
   "codemirror_mode": {
    "name": "ipython",
    "version": 3
   },
   "file_extension": ".py",
   "mimetype": "text/x-python",
   "name": "python",
   "nbconvert_exporter": "python",
   "pygments_lexer": "ipython3",
   "version": "3.9.7"
  },
  "orig_nbformat": 4,
  "vscode": {
   "interpreter": {
    "hash": "6fc0ed74a087944f7d4394f4d91ee1483def030b33d45c86fb544dde79387957"
   }
  }
 },
 "nbformat": 4,
 "nbformat_minor": 2
}

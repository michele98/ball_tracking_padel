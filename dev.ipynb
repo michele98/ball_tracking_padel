{
 "cells": [
  {
   "cell_type": "code",
   "execution_count": null,
   "metadata": {},
   "outputs": [],
   "source": [
    "import os\n",
    "import numpy as np\n",
    "import pandas as pd\n",
    "import matplotlib.pyplot as plt\n",
    "from functools import partial\n",
    "\n",
    "import torch\n",
    "import torch.nn as nn\n",
    "from torch.utils.data import DataLoader\n",
    "import torch.nn.functional as F\n",
    "from torchvision.transforms import ToTensor\n",
    "\n",
    "from utils.dataset import VideoDataset\n",
    "from utils.training import train_model\n",
    "from utils.models import TrackNetV2MSE, TrackNetV2NLL\n",
    "\n",
    "device = torch.device('cuda' if torch.cuda.is_available() else 'cpu')\n",
    "print(device)\n",
    "\n",
    "%load_ext autoreload\n",
    "%autoreload 2"
   ]
  },
  {
   "attachments": {},
   "cell_type": "markdown",
   "metadata": {},
   "source": [
    "## Dataset"
   ]
  },
  {
   "cell_type": "code",
   "execution_count": null,
   "metadata": {},
   "outputs": [],
   "source": [
    "sequence_length = 3\n",
    "\n",
    "dataset_params = dict(root=\"../videos/dataset_finales_2020_en/\",\n",
    "                      image_size=(512, 512),\n",
    "                      sigma=5,\n",
    "                      sequence_length=sequence_length,\n",
    "                      heatmap_mode='image',\n",
    "                      duplicate_equality_threshold=0.97,\n",
    "                      one_output_frame=False,\n",
    "                      drop_duplicate_frames=True)\n",
    "\n",
    "dataset_demo = VideoDataset(**dataset_params)\n",
    "dataset_train = VideoDataset(**dataset_params, transform=ToTensor(), target_transform=ToTensor(), split='train')\n",
    "dataset_val = VideoDataset(**dataset_params, transform=ToTensor(), target_transform=ToTensor(), split='val')\n",
    "\n",
    "data_loader_train = DataLoader(dataset_train, batch_size=2)\n",
    "data_loader_val = DataLoader(dataset_val, batch_size=2)"
   ]
  },
  {
   "cell_type": "code",
   "execution_count": null,
   "metadata": {},
   "outputs": [],
   "source": [
    "frames, heatmap = dataset_train[0]"
   ]
  },
  {
   "cell_type": "code",
   "execution_count": null,
   "metadata": {},
   "outputs": [],
   "source": [
    "w, h, dpi = 480, 853, 50\n",
    "\n",
    "fig, ax = plt.subplots(figsize=(w/dpi, h/dpi), dpi=dpi)\n",
    "\n",
    "frames, labels = dataset_demo[66]\n",
    "ax.imshow(frames[2])\n",
    "ax.imshow(labels[2], alpha=0.6, cmap='gray')\n",
    "ax.set_axis_off()\n",
    "fig.tight_layout(pad=0)\n",
    "\n",
    "plt.show()"
   ]
  },
  {
   "attachments": {},
   "cell_type": "markdown",
   "metadata": {},
   "source": [
    "# Training"
   ]
  },
  {
   "attachments": {},
   "cell_type": "markdown",
   "metadata": {},
   "source": [
    "Load model and set checkpoint folder"
   ]
  },
  {
   "cell_type": "code",
   "execution_count": null,
   "metadata": {},
   "outputs": [],
   "source": [
    "model = TrackNetV2MSE(sequence_length=sequence_length, one_output_frame=False)\n",
    "checkpoint_folder = './checkpoints/checkpoints_512_mse'\n",
    "\n",
    "train_model_partial = partial(train_model,\n",
    "                              loss_function=F.mse_loss,\n",
    "                              checkpoint_folder=checkpoint_folder)"
   ]
  },
  {
   "cell_type": "code",
   "execution_count": null,
   "metadata": {},
   "outputs": [],
   "source": [
    "model = TrackNetV2NLL(sequence_length=sequence_length)\n",
    "checkpoint_folder = './checkpoints/checkpoints_512_nll'\n",
    "\n",
    "train_model_partial = partial(train_model,\n",
    "                              loss_function=F.nll_loss,\n",
    "                              checkpoint_folder=checkpoint_folder)"
   ]
  },
  {
   "attachments": {},
   "cell_type": "markdown",
   "metadata": {},
   "source": [
    "Training loop"
   ]
  },
  {
   "cell_type": "code",
   "execution_count": null,
   "metadata": {},
   "outputs": [],
   "source": [
    "#TODO: check the loss function\n",
    "#TODO: check the training recipe\n",
    "\n",
    "checkpoint_dict = train_model_partial(model,\n",
    "                                      data_loader_train,\n",
    "                                      data_loader_val,\n",
    "                                      epochs=1,\n",
    "                                      device=device)"
   ]
  },
  {
   "attachments": {},
   "cell_type": "markdown",
   "metadata": {},
   "source": [
    "Plot train and validation loss"
   ]
  },
  {
   "cell_type": "code",
   "execution_count": null,
   "metadata": {},
   "outputs": [],
   "source": [
    "train_loss = np.loadtxt(os.path.join(checkpoint_folder, \"loss_history.csv\"))\n",
    "val_loss = np.loadtxt(os.path.join(checkpoint_folder, \"loss_history_val.csv\"))\n",
    "\n",
    "fig, ax = plt.subplots()\n",
    "ax.set_yscale('log')\n",
    "\n",
    "ax.plot(train_loss, label='train loss')\n",
    "ax.plot(val_loss, label='val loss')\n",
    "\n",
    "ax.set_xlabel(\"Epoch\")\n",
    "ax.set_ylabel(\"Loss\")\n",
    "\n",
    "ax.legend()\n",
    "\n",
    "plt.show()"
   ]
  },
  {
   "attachments": {},
   "cell_type": "markdown",
   "metadata": {},
   "source": [
    "Load weights from checkpoint"
   ]
  },
  {
   "cell_type": "code",
   "execution_count": null,
   "metadata": {},
   "outputs": [],
   "source": [
    "from utils.storage import load_weights\n",
    "\n",
    "load_weights(model, \"checkpoints\\checkpoints_512\\checkpoint_0101_best.ckpt\")\n",
    "model.to(device);"
   ]
  },
  {
   "cell_type": "code",
   "execution_count": null,
   "metadata": {},
   "outputs": [],
   "source": [
    "model.load(\"checkpoints\\checkpoints_512_mse\\checkpoint_0101_best.ckpt\", device=device)\n",
    "model.eval();"
   ]
  },
  {
   "attachments": {},
   "cell_type": "markdown",
   "metadata": {},
   "source": [
    "# Show example"
   ]
  },
  {
   "attachments": {},
   "cell_type": "markdown",
   "metadata": {},
   "source": [
    "Get maximum of the heatmap"
   ]
  },
  {
   "cell_type": "code",
   "execution_count": null,
   "metadata": {},
   "outputs": [],
   "source": [
    "def get_maximum_coordinates(heatmaps):\n",
    "    if len(heatmaps.shape)==3:\n",
    "        map_max_values = np.max(heatmaps.reshape(3, -1), axis=1)\n",
    "        map_index = np.argmax(map_max_values)\n",
    "        max_value = np.max(map_max_values)\n",
    "        x, y = np.nonzero(heatmaps[map_index] == max_value)\n",
    "    else:\n",
    "        max_value = np.max(heatmaps)\n",
    "        x, y = np.nonzero(heatmaps == max_value)\n",
    "\n",
    "    return y[0], x[0]"
   ]
  },
  {
   "attachments": {},
   "cell_type": "markdown",
   "metadata": {},
   "source": [
    "Produce output heatmap"
   ]
  },
  {
   "cell_type": "code",
   "execution_count": null,
   "metadata": {},
   "outputs": [],
   "source": [
    "frames, heatmaps = dataset_val[20]\n",
    "heatmaps_np = heatmaps.numpy()\n",
    "frames_np = frames.numpy()[:3].transpose(1, 2, 0)\n",
    "\n",
    "with torch.no_grad():\n",
    "    outputs = model(frames[None, :].to(device))\n",
    "outputs_np = outputs.to('cpu').numpy()[0].transpose(0, 1, 2)"
   ]
  },
  {
   "cell_type": "code",
   "execution_count": null,
   "metadata": {},
   "outputs": [],
   "source": [
    "w, h, dpi = 1280, 720, 150\n",
    "\n",
    "fig, axs = plt.subplots(figsize=(w/dpi, h/dpi), dpi=dpi, ncols=2)\n",
    "\n",
    "axs[0].imshow(frames_np)\n",
    "\n",
    "axs[1].imshow(outputs_np[0], cmap='magma')\n",
    "axs[1].scatter(*get_maximum_coordinates(heatmaps_np[0]), color='w', label='True position')\n",
    "axs[1].scatter(*get_maximum_coordinates(outputs_np), color='y', label='Predicted position')\n",
    "\n",
    "axs[1].legend(framealpha=0.5)\n",
    "\n",
    "fig.tight_layout()\n",
    "for ax in axs:\n",
    "    ax.set_axis_off()\n",
    "\n",
    "plt.show()"
   ]
  },
  {
   "attachments": {},
   "cell_type": "markdown",
   "metadata": {},
   "source": [
    "# Duplicate frames demo"
   ]
  },
  {
   "cell_type": "code",
   "execution_count": null,
   "metadata": {},
   "outputs": [],
   "source": [
    "import cv2\n",
    "root = \"../videos/dataset_finales_2020_en/\"\n",
    "cap = cv2.VideoCapture(os.path.join(root, \"video.mp4\"))"
   ]
  },
  {
   "cell_type": "code",
   "execution_count": null,
   "metadata": {},
   "outputs": [],
   "source": [
    "cap.set(cv2.CAP_PROP_POS_FRAMES, 13620)\n",
    "_, frame1 = cap.read()\n",
    "frame1 = cv2.cvtColor(frame1, cv2.COLOR_BGR2RGB)\n",
    "\n",
    "_, frame2 = cap.read()\n",
    "frame2 = cv2.cvtColor(frame2, cv2.COLOR_BGR2RGB)"
   ]
  },
  {
   "cell_type": "code",
   "execution_count": null,
   "metadata": {},
   "outputs": [],
   "source": [
    "plt.imshow(frame1)\n",
    "plt.show()\n",
    "\n",
    "plt.imshow(frame2)\n",
    "plt.show()"
   ]
  },
  {
   "cell_type": "code",
   "execution_count": null,
   "metadata": {},
   "outputs": [],
   "source": [
    "plt.imshow(np.abs(frame2 - frame1))\n",
    "plt.colorbar()\n",
    "plt.show()"
   ]
  }
 ],
 "metadata": {
  "kernelspec": {
   "display_name": "pytorch",
   "language": "python",
   "name": "python3"
  },
  "language_info": {
   "codemirror_mode": {
    "name": "ipython",
    "version": 3
   },
   "file_extension": ".py",
   "mimetype": "text/x-python",
   "name": "python",
   "nbconvert_exporter": "python",
   "pygments_lexer": "ipython3",
   "version": "3.9.7"
  },
  "orig_nbformat": 4,
  "vscode": {
   "interpreter": {
    "hash": "695c89e8d1a0e3ecb3b35b5172c9b51550f30a782fca086e9907470f1e458eec"
   }
  }
 },
 "nbformat": 4,
 "nbformat_minor": 2
}

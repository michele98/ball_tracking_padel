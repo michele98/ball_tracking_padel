{
 "cells": [
  {
   "cell_type": "code",
   "execution_count": null,
   "metadata": {},
   "outputs": [],
   "source": [
    "import os\n",
    "import cv2\n",
    "import time\n",
    "import numpy as np\n",
    "import pandas as pd\n",
    "import matplotlib.pyplot as plt\n",
    "from functools import partial\n",
    "plt.style.use('default')\n",
    "\n",
    "import torch\n",
    "import torch.nn.functional as F\n",
    "from torch.utils.data import DataLoader\n",
    "from torchvision.transforms import ToTensor\n",
    "\n",
    "from detection.dataset import VideoDataset, MyConcatDataset, VideoDatasetRNN\n",
    "from detection.models import TrackNetV2MSE, TrackNetV2NLL, TrackNetV2RNN\n",
    "from detection.training import train_model\n",
    "from detection.testing import get_local_maxima\n",
    "\n",
    "# device = torch.device('cuda' if torch.cuda.is_available() else 'cpu')\n",
    "# print(device)\n",
    "\n",
    "%load_ext autoreload\n",
    "%autoreload 2"
   ]
  },
  {
   "attachments": {},
   "cell_type": "markdown",
   "metadata": {},
   "source": [
    "# Trajectory analysis with RANSAC on heatmaps"
   ]
  },
  {
   "cell_type": "code",
   "execution_count": null,
   "metadata": {},
   "outputs": [],
   "source": [
    "from detection.testing import get_local_maxima\n",
    "\n",
    "# heatmaps_folder = './checkpoints/tracknet_v2_rnn_360_640/phase_3_0/checkpoint_0002_results/heatmaps_test_standard'\n",
    "heatmaps_folder = './checkpoints/tracknet_v2_mse_360_640/checkpoint_0027_results/heatmaps_test_standard'\n",
    "\n",
    "frame_range = np.arange(1200)\n",
    "\n",
    "w_heatmap, h_heatmap = 640, 360\n",
    "\n",
    "heatmaps = np.zeros((len(frame_range), h_heatmap, w_heatmap))\n",
    "for k_seed, frame_index in enumerate(frame_range):\n",
    "    heatmaps[k_seed] = cv2.imread(os.path.join(heatmaps_folder, f\"{frame_index}\".zfill(6)+'.png'), cv2.IMREAD_GRAYSCALE)/255\n",
    "\n",
    "cap = cv2.VideoCapture(\"../datasets/test_standard/video.mp4\")\n",
    "cap.set(cv2.CAP_PROP_POS_FRAMES, frame_range[0]+5)\n",
    "\n",
    "# w_frame, h_frame = 640, 360\n",
    "w_frame, h_frame = 1280, 720\n",
    "\n",
    "frames = np.zeros((len(frame_range), h_frame, w_frame, 3), dtype=np.uint8)\n",
    "for k_seed, frame_index in enumerate(frame_range):\n",
    "    ret, frame = cap.read()\n",
    "    if not ret:\n",
    "        print(\"Failed to read frame\")\n",
    "        break\n",
    "    frames[k_seed] = cv2.cvtColor(cv2.resize(frame, (w_frame, h_frame)), cv2.COLOR_BGR2RGB)\n",
    "cap.release()\n",
    "\n",
    "frt = w_frame/w_heatmap # ratio between frame and heatmap"
   ]
  },
  {
   "cell_type": "code",
   "execution_count": null,
   "metadata": {},
   "outputs": [],
   "source": [
    "max_num_candidates = 20                # maximum supported number of candidates for each frame\n",
    "n_candidates = np.zeros(len(heatmaps), dtype=int) # number of candidates for each frame\n",
    "\n",
    "candidates = np.zeros((len(heatmaps), max_num_candidates, 2))  # candidates array\n",
    "for k_seed in range(len(heatmaps)):\n",
    "    m = get_local_maxima(heatmaps[k_seed], threshold=0.1, sigma=0.5, include_diagonal=True)\n",
    "    candidates[k_seed, :len(m)] = m[:max_num_candidates]\n",
    "    n_candidates[k_seed] = min(len(m), max_num_candidates)"
   ]
  },
  {
   "cell_type": "code",
   "execution_count": null,
   "metadata": {},
   "outputs": [],
   "source": [
    "k_seed = 214\n",
    "plt.imshow(frames[k_seed])\n",
    "plt.imshow(cv2.resize(heatmaps[k_seed], (w_frame, h_frame)), cmap='gray', alpha=0.7)\n",
    "plt.scatter(candidates[k_seed][:,1]*frt, candidates[k_seed][:,0]*frt, s=4, c='r')\n",
    "\n",
    "plt.show()"
   ]
  },
  {
   "attachments": {},
   "cell_type": "markdown",
   "metadata": {},
   "source": [
    "## Fit model"
   ]
  },
  {
   "cell_type": "code",
   "execution_count": null,
   "metadata": {},
   "outputs": [],
   "source": [
    "from trajectories.fitting import *\n",
    "from trajectories.filtering import *\n",
    "from trajectories.visualization import *\n",
    "from trajectories.utils import Graph"
   ]
  },
  {
   "cell_type": "code",
   "execution_count": null,
   "metadata": {},
   "outputs": [],
   "source": [
    "trajectory_info = []\n",
    "\n",
    "info_keys = ['k_seed','k_min','k_mid','k_max','i_seed','i_min','i_mid','i_max','n_support','iterations']\n",
    "l2i = {key: i for i, key in enumerate(info_keys)}\n",
    "\n",
    "display_fit = False\n",
    "\n",
    "t = time.time()\n",
    "\n",
    "# for k in [2, 28, 43]:\n",
    "# for k in range(61, 62):\n",
    "for k in range(1200):\n",
    "    k_seed = k\n",
    "\n",
    "    d_threshold = 3\n",
    "    seed_radius = 20\n",
    "\n",
    "    N = 10\n",
    "\n",
    "    parameters, info, trajectories, supports, costs = fit_trajectories(candidates, n_candidates, k_seed, seed_radius, d_threshold, N)\n",
    "\n",
    "    if costs is None:\n",
    "        if display_fit:\n",
    "            print(f\"Seed frame: {k}\")\n",
    "            plt.imshow(frames[k])\n",
    "            plt.show()\n",
    "        continue\n",
    "\n",
    "    s = np.argmin(costs)\n",
    "\n",
    "    if (parameters[s] == 0).all() or info[s,l2i['n_support']] < 5:\n",
    "        # exclusion criteria:\n",
    "        # - points\n",
    "        # - support set smaller than 5\n",
    "        continue\n",
    "\n",
    "    if display_fit:\n",
    "        # k_min = supports[s,0,]\n",
    "        print(f\"Found {len(costs)} seed triplet(s)\")\n",
    "        print(f\"Seed frame: {info[s,l2i['k_seed']]}\")\n",
    "        print(f\"Used frame for fit: {info[s,l2i['k_min']]}, {info[s,l2i['k_mid']]}, {info[s,l2i['k_max']]}\")\n",
    "        print(f\"Used candidate for fit: {info[s,l2i['i_min']]}, {info[s,l2i['i_mid']]}, {info[s,l2i['i_max']]}\")\n",
    "        print(f\"support: {supports[s]}\")\n",
    "        print(f\"cost = {costs[s]}\")\n",
    "        print(f\"Iterations: {info[s,l2i['iterations']]}\")\n",
    "        print(f\"v = {parameters[s,0]}\")\n",
    "        print(f\"a = {parameters[s,1]}\")\n",
    "        show_fit(trajectories[s], candidates,\n",
    "                *[info[s, l2i[key]] for key in info_keys[:-2]],\n",
    "                background=frames[info[s,l2i['k_min']]])\n",
    "        plt.show()\n",
    "\n",
    "    d = {key: info[s, l2i[key]] for key in info_keys}\n",
    "    d['trajectory'] = trajectories[s]\n",
    "    d['support'] = supports[s]\n",
    "    d['v'] = parameters[s,0]\n",
    "    d['a'] = parameters[s,1]\n",
    "    d['cost'] = costs[s]\n",
    "    trajectory_info.append(d)\n",
    "\n",
    "t1 = time.time()\n",
    "print(f\"Execution time: {t1-t}\")\n",
    "\n",
    "plt.show()"
   ]
  },
  {
   "cell_type": "code",
   "execution_count": null,
   "metadata": {},
   "outputs": [],
   "source": [
    "def extract(trajectory_info, i):\n",
    "    k_seed = trajectory_info[i]['k_seed']\n",
    "    trajectory = trajectory_info[i]['trajectory']\n",
    "    n_support = trajectory_info[i]['n_support']\n",
    "    support = trajectory_info[i]['support'][:n_support]\n",
    "    return trajectory, support, k_seed"
   ]
  },
  {
   "cell_type": "code",
   "execution_count": null,
   "metadata": {},
   "outputs": [],
   "source": [
    "from networkx import DiGraph, dijkstra_path\n",
    "\n",
    "max_diff = N\n",
    "\n",
    "trajectory_graph = DiGraph()\n",
    "\n",
    "for i in range(len(trajectory_info)):\n",
    "    for j in range(i, min(i+max_diff, len(trajectory_info))):\n",
    "        t1, s1, k1 = extract(trajectory_info, i)\n",
    "        t2, s2, k2 = extract(trajectory_info, j)\n",
    "        d = trajectory_distance(t1, s1, k1, t2, s2, k2)\n",
    "\n",
    "        if d != np.inf and i!=j:\n",
    "            trajectory_graph.add_edge(k1, k2, weight=d)"
   ]
  },
  {
   "cell_type": "code",
   "execution_count": null,
   "metadata": {},
   "outputs": [],
   "source": [
    "shortest_path = dijkstra_path(trajectory_graph, 1, 108)\n",
    "shortest_path"
   ]
  },
  {
   "cell_type": "code",
   "execution_count": null,
   "metadata": {},
   "outputs": [],
   "source": [
    "t1, s1, k1 = extract(trajectory_info, 107)\n",
    "t2, s2, k2 = extract(trajectory_info, 108)\n",
    "d = trajectory_distance(t1, s1, k1, t2, s2, k2)\n",
    "d"
   ]
  },
  {
   "cell_type": "code",
   "execution_count": null,
   "metadata": {},
   "outputs": [],
   "source": [
    "ti = np.array([t['k_seed'] for t in trajectory_info])\n",
    "trajectory_info[np.where(ti==137)[0][0]]"
   ]
  },
  {
   "cell_type": "code",
   "execution_count": null,
   "metadata": {},
   "outputs": [],
   "source": [
    "np.where(ti==199)[0][0]"
   ]
  },
  {
   "cell_type": "code",
   "execution_count": null,
   "metadata": {},
   "outputs": [],
   "source": [
    "ti = np.array([t['k_seed'] for t in trajectory_info])\n",
    "\n",
    "dpi = 100\n",
    "fig, ax = plt.subplots(figsize=(w_frame/dpi, h_frame/dpi), dpi=dpi)\n",
    "\n",
    "ax.imshow(frames[91], zorder=-2)\n",
    "\n",
    "colors = ['r', 'g', 'y', 'b']\n",
    "\n",
    "to_print = []\n",
    "for i, node in enumerate(shortest_path):\n",
    "    if node not in range(60, 85): # (70, 80, 83, 89, 87):\n",
    "        continue\n",
    "\n",
    "    to_print.append(node)\n",
    "    index = np.where(ti==node)[0][0]\n",
    "    trajectory = trajectory_info[index]['trajectory']\n",
    "\n",
    "    show_fit(trajectory*frt, candidates*frt, *[trajectory_info[index][key] for key in info_keys[:-2]],\n",
    "             ax=ax,\n",
    "             annotate=True,\n",
    "             show_fitting_points=False,\n",
    "             trajectory_color=colors[i%len(colors)])# 'y' if i%2==0 else 'r')\n",
    "ax.set_xlim(0, w_frame)\n",
    "ax.set_ylim(h_frame, 0)\n",
    "\n",
    "print(to_print)\n",
    "plt.show()"
   ]
  },
  {
   "cell_type": "code",
   "execution_count": null,
   "metadata": {},
   "outputs": [],
   "source": [
    "trajectory_info[0].keys()"
   ]
  },
  {
   "cell_type": "code",
   "execution_count": null,
   "metadata": {},
   "outputs": [],
   "source": [
    "index = np.where(ti==99)[0][0]\n",
    "trajectory = trajectory_info[index]['trajectory']\n",
    "trajectory_info[index]['k_min']"
   ]
  },
  {
   "cell_type": "code",
   "execution_count": null,
   "metadata": {},
   "outputs": [],
   "source": [
    "w_frame, h_frame = 1280, 720"
   ]
  },
  {
   "cell_type": "code",
   "execution_count": null,
   "metadata": {},
   "outputs": [],
   "source": [
    "ti = np.array([t['k_seed'] for t in trajectory_info])\n",
    "\n",
    "dpi = 100\n",
    "fig, ax = plt.subplots(figsize=(w_frame/dpi, h_frame/dpi), dpi=dpi)\n",
    "\n",
    "for frame in (107, 108):\n",
    "\n",
    "    # frame = 108\n",
    "    index = np.where(ti==frame)[0][0]\n",
    "    trajectory = trajectory_info[index]['trajectory']\n",
    "\n",
    "    show_fit(trajectory*frt, candidates*frt, *[trajectory_info[index][key] for key in info_keys[:-2]],\n",
    "                ax=ax,\n",
    "                annotate=True,\n",
    "                show_fitting_points=True,\n",
    "                background=frames[frame])# 'y' if i%2==0 else 'r')\n",
    "    ax.set_xlim(0, w_frame)\n",
    "    ax.set_ylim(h_frame, 0)\n",
    "\n",
    "plt.show()"
   ]
  },
  {
   "attachments": {},
   "cell_type": "markdown",
   "metadata": {},
   "source": [
    "# Visualize some activations and kernels because why not"
   ]
  },
  {
   "cell_type": "code",
   "execution_count": null,
   "metadata": {},
   "outputs": [],
   "source": [
    "model = TrackNetV2RNN(sequence_length=4)\n",
    "model.load('checkpoints/tracknet_v2_rnn_360_640/phase_3_0/checkpoint_0002_best.ckpt')\n",
    "model.eval()\n",
    "model"
   ]
  },
  {
   "cell_type": "code",
   "execution_count": null,
   "metadata": {},
   "outputs": [],
   "source": [
    "dataset_params = dict(image_size=(360, 640),\n",
    "                      sequence_length=4,\n",
    "                      sigma=5,\n",
    "                      drop_duplicate_frames=False,\n",
    "                      transform = ToTensor(),\n",
    "                      target_transform = ToTensor(),\n",
    "                      grayscale=False)\n",
    "\n",
    "dataset = VideoDatasetRNN(root=\"../datasets/prova/\", **dataset_params)"
   ]
  },
  {
   "cell_type": "code",
   "execution_count": null,
   "metadata": {},
   "outputs": [],
   "source": [
    "counter = 0\n",
    "\n",
    "def get_encoding_layer(desired_block=1, subblock=0):\n",
    "    layers = []\n",
    "    for i, block in enumerate(model.children()):\n",
    "        # print(i)\n",
    "        if i%2 == 1:\n",
    "            layers.append(block)\n",
    "        for j, block_element in enumerate(block.children()):\n",
    "            #print(i, j)\n",
    "            for k, layer in enumerate(block_element.children()):\n",
    "                layers.append(layer)\n",
    "                # print(i, j, k)\n",
    "                if type(layer) is torch.nn.ReLU and i==2*desired_block and j==subblock:\n",
    "                    break\n",
    "            if type(layer) is torch.nn.ReLU and i==2*desired_block and j==subblock:\n",
    "                break\n",
    "        if type(layer) is torch.nn.ReLU and i==2*desired_block:\n",
    "            break\n",
    "    return layers\n",
    "\n",
    "def compute_activations(layers, input):\n",
    "    activation = input.unsqueeze(dim=0)\n",
    "    with torch.no_grad():\n",
    "        for l in layers:\n",
    "            activation = l(activation)\n",
    "\n",
    "    return activation.squeeze().numpy()"
   ]
  },
  {
   "cell_type": "code",
   "execution_count": null,
   "metadata": {},
   "outputs": [],
   "source": [
    "frames, labels = dataset[50]\n",
    "frames = frames.to(torch.float32)"
   ]
  },
  {
   "cell_type": "code",
   "execution_count": null,
   "metadata": {},
   "outputs": [],
   "source": [
    "w, h_frame, dpi = 300*2*16/9, 300, 100\n",
    "\n",
    "fig, axs = plt.subplots(ncols=2, figsize=(w/dpi, h_frame/dpi), dpi=dpi)\n",
    "\n",
    "axs[0].imshow(frames[-3:].numpy().transpose(1, 2, 0))\n",
    "axs[0].set_title(\"Input frame (last in sequence)\")\n",
    "\n",
    "axs[1].imshow(labels[0])\n",
    "axs[1].set_title(\"Ground truth\")\n",
    "\n",
    "fig.tight_layout(pad=0.2)\n",
    "plt.show()"
   ]
  },
  {
   "cell_type": "code",
   "execution_count": null,
   "metadata": {},
   "outputs": [],
   "source": [
    "noise_part = np.linspace(0, 1, 10)\n",
    "c = []\n",
    "\n",
    "for n in noise_part:\n",
    "    with torch.no_grad():\n",
    "        f = (1-n)*frames + n*torch.randn(frames.shape)\n",
    "        out = model(f.unsqueeze(dim=0)).squeeze().numpy()\n",
    "    c.append(out.max())\n",
    "plt.plot(noise_part, c)"
   ]
  },
  {
   "cell_type": "code",
   "execution_count": null,
   "metadata": {},
   "outputs": [],
   "source": [
    "n = 0.07\n",
    "with torch.no_grad():\n",
    "    f = (1-n)*frames + n*torch.randn(frames.shape)\n",
    "    out = model(f.unsqueeze(dim=0)).squeeze().numpy()\n",
    "plt.imshow(out)\n",
    "plt.colorbar()\n",
    "plt.show()"
   ]
  },
  {
   "cell_type": "code",
   "execution_count": null,
   "metadata": {},
   "outputs": [],
   "source": [
    "frames[:3] = torch.zeros(3, 360, 640)"
   ]
  },
  {
   "cell_type": "code",
   "execution_count": null,
   "metadata": {},
   "outputs": [],
   "source": [
    "block = 2\n",
    "subblock = 1\n",
    "\n",
    "activations = compute_activations(get_encoding_layer(block, subblock), frames)\n",
    "activations.shape"
   ]
  },
  {
   "cell_type": "code",
   "execution_count": null,
   "metadata": {},
   "outputs": [],
   "source": [
    "(dead_activations, ) = np.where(activations.max(axis=(1,2))==0)\n",
    "print(f\"Of {activations.shape[0]} activations, {dead_activations.size} are dead and {activations.shape[0]-dead_activations.size} are not.\")"
   ]
  },
  {
   "cell_type": "code",
   "execution_count": null,
   "metadata": {},
   "outputs": [],
   "source": [
    "height_pixels = 1080\n",
    "top_adjust = 1\n",
    "\n",
    "w, h_frame, dpi = height_pixels*16/9*top_adjust, height_pixels, 100\n",
    "fig, axs = plt.subplots(nrows=8, ncols=8, figsize=(w/dpi, h_frame/dpi), dpi=dpi)\n",
    "\n",
    "i_0 = 0\n",
    "\n",
    "for k, ax in enumerate(axs.ravel()):\n",
    "    ax.imshow(activations[k+i_0], cmap='gray')\n",
    "    # ax.set_title(i)\n",
    "    ax.set_axis_off()\n",
    "\n",
    "#fig.suptitle(f\"Activations in encoding block {block}, subblock {subblock}\")\n",
    "\n",
    "fig.tight_layout(pad=0.5)\n",
    "fig.subplots_adjust(top=top_adjust)\n",
    "\n",
    "#fig.savefig(f\"{block}_{subblock}.png\")\n",
    "\n",
    "plt.show()"
   ]
  },
  {
   "cell_type": "code",
   "execution_count": null,
   "metadata": {},
   "outputs": [],
   "source": [
    "model.state_dict().keys()"
   ]
  },
  {
   "cell_type": "code",
   "execution_count": null,
   "metadata": {},
   "outputs": [],
   "source": [
    "dk = 4\n",
    "\n",
    "kernels = model.state_dict()['vgg_conv1.1.0.weight'].numpy()\n",
    "biases = model.state_dict()['vgg_conv1.1.0.bias'].numpy()\n",
    "w, h_frame, dpi = 800, 800, 100\n",
    "fig, axs = plt.subplots(nrows=8, ncols=8, figsize=(w/dpi, h_frame/dpi), dpi=dpi)\n",
    "\n",
    "print(kernels.shape)\n",
    "print(biases[dk])\n",
    "\n",
    "min_val = kernels[dk].min()\n",
    "max_val = kernels[dk].max()\n",
    "print(min_val, max_val)\n",
    "\n",
    "max_val=max((max_val, -min_val))\n",
    "min_val=min((-max_val, min_val))\n",
    "\n",
    "for k, ax in enumerate(axs.ravel()):\n",
    "    ax.imshow(kernels[dk,k], cmap='RdBu', vmin=min_val, vmax=max_val)\n",
    "    ax.set_axis_off()\n",
    "\n",
    "#fig.suptitle(f\"Kernel {k}, bias = {biases[k]:.2g}\")\n",
    "fig.tight_layout(pad=0.2)\n",
    "plt.show()\n"
   ]
  }
 ],
 "metadata": {
  "kernelspec": {
   "display_name": "pytorch",
   "language": "python",
   "name": "python3"
  },
  "language_info": {
   "codemirror_mode": {
    "name": "ipython",
    "version": 3
   },
   "file_extension": ".py",
   "mimetype": "text/x-python",
   "name": "python",
   "nbconvert_exporter": "python",
   "pygments_lexer": "ipython3",
   "version": "3.9.7"
  },
  "orig_nbformat": 4,
  "vscode": {
   "interpreter": {
    "hash": "6fc0ed74a087944f7d4394f4d91ee1483def030b33d45c86fb544dde79387957"
   }
  }
 },
 "nbformat": 4,
 "nbformat_minor": 2
}

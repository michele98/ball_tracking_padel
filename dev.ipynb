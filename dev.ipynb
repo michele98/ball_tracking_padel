{
 "cells": [
  {
   "cell_type": "code",
   "execution_count": null,
   "metadata": {},
   "outputs": [],
   "source": [
    "import os\n",
    "import numpy as np\n",
    "import pandas as pd\n",
    "import matplotlib.pyplot as plt\n",
    "from functools import partial\n",
    "\n",
    "import torch\n",
    "import torch.nn.functional as F\n",
    "from torch.utils.data import DataLoader\n",
    "from torchvision.transforms import ToTensor\n",
    "\n",
    "from utils.dataset import VideoDataset, MyConcatDataset\n",
    "from utils.models import TrackNetV2MSE, TrackNetV2NLL\n",
    "from utils.training import train_model\n",
    "\n",
    "device = torch.device('cuda' if torch.cuda.is_available() else 'cpu')\n",
    "print(device)\n",
    "\n",
    "%load_ext autoreload\n",
    "%autoreload 2"
   ]
  },
  {
   "attachments": {},
   "cell_type": "markdown",
   "metadata": {},
   "source": [
    "## Dataset"
   ]
  },
  {
   "attachments": {},
   "cell_type": "markdown",
   "metadata": {},
   "source": [
    "Load dataset"
   ]
  },
  {
   "cell_type": "code",
   "execution_count": null,
   "metadata": {},
   "outputs": [],
   "source": [
    "sequence_length = 3\n",
    "one_output_frame = True\n",
    "\n",
    "image_size = (360, 640)\n",
    "\n",
    "dataset_params = dict(image_size=image_size,\n",
    "                      sigma=5,\n",
    "                      sequence_length=sequence_length,\n",
    "                      heatmap_mode='image',\n",
    "                      one_output_frame=one_output_frame,\n",
    "                      drop_duplicate_frames=True)\n",
    "\n",
    "dataset_demo = VideoDataset(root=\"../datasets/dataset_finales_2020_en/\", duplicate_equality_threshold=0.97, **dataset_params)\n",
    "\n",
    "# add transforms\n",
    "dataset_params['transform'] = ToTensor()\n",
    "dataset_params['target_transform'] = ToTensor()\n",
    "\n",
    "roots = [f'../datasets/dataset_lluis/game{i+1}' for i in range(5)]\n",
    "\n",
    "# training dataset\n",
    "dataset_train_list = []\n",
    "dataset_train_list.append(VideoDataset(root=\"../datasets/dataset_finales_2020_en/\", split='train', duplicate_equality_threshold=0.97, **dataset_params))\n",
    "for root in roots[:-1]:\n",
    "    dataset_train_list.append(VideoDataset(root=root, duplicate_equality_threshold=1, **dataset_params))\n",
    "\n",
    "dataset_train = MyConcatDataset(dataset_train_list)\n",
    "\n",
    "# validation dataset\n",
    "dataset_val_list = []\n",
    "dataset_val_list.append(VideoDataset(root=\"../datasets/dataset_finales_2020_en/\", split='val', duplicate_equality_threshold=0.97, **dataset_params))\n",
    "for root in roots[-1:]:\n",
    "    dataset_val_list.append(VideoDataset(root=root, duplicate_equality_threshold=1, **dataset_params))\n",
    "\n",
    "dataset_val = MyConcatDataset(dataset_val_list)\n",
    "\n",
    "# test dataset (for now equal to validation dataset)\n",
    "dataset_test = dataset_val"
   ]
  },
  {
   "cell_type": "code",
   "execution_count": null,
   "metadata": {},
   "outputs": [],
   "source": [
    "w, h, dpi = 480, 853, 50\n",
    "\n",
    "fig, ax = plt.subplots(figsize=(w/dpi, h/dpi), dpi=dpi)\n",
    "\n",
    "frames, labels = dataset_demo[57]\n",
    "ax.imshow(frames[-1])\n",
    "ax.imshow(labels, alpha=0.6, cmap='gray')\n",
    "ax.set_axis_off()\n",
    "fig.tight_layout(pad=0)\n",
    "\n",
    "plt.show()"
   ]
  },
  {
   "attachments": {},
   "cell_type": "markdown",
   "metadata": {},
   "source": [
    "# Training"
   ]
  },
  {
   "attachments": {},
   "cell_type": "markdown",
   "metadata": {},
   "source": [
    "Load model and set checkpoint folder"
   ]
  },
  {
   "cell_type": "code",
   "execution_count": null,
   "metadata": {},
   "outputs": [],
   "source": [
    "model = TrackNetV2MSE(sequence_length=sequence_length, one_output_frame=one_output_frame)\n",
    "checkpoint_folder = './checkpoints/checkpoints_360_640_mse'\n",
    "\n",
    "train_model_partial = partial(train_model, loss_function=F.mse_loss)"
   ]
  },
  {
   "cell_type": "code",
   "execution_count": null,
   "metadata": {},
   "outputs": [],
   "source": [
    "model = TrackNetV2NLL(sequence_length=sequence_length)\n",
    "checkpoint_folder = './checkpoints/checkpoints_360_640_nll'\n",
    "\n",
    "train_model_partial = partial(train_model, loss_function=F.nll_loss)"
   ]
  },
  {
   "attachments": {},
   "cell_type": "markdown",
   "metadata": {},
   "source": [
    "## Training loop"
   ]
  },
  {
   "cell_type": "code",
   "execution_count": null,
   "metadata": {},
   "outputs": [],
   "source": [
    "#TODO: check the training recipe\n",
    "batch_size = 2\n",
    "\n",
    "# data loaders\n",
    "data_loader_train = DataLoader(dataset_train, batch_size=batch_size, shuffle=True)\n",
    "data_loader_val = DataLoader(dataset_val, batch_size=batch_size)\n",
    "\n",
    "checkpoint_dict = train_model_partial(model,\n",
    "                                      data_loader_train,\n",
    "                                      data_loader_val,\n",
    "                                      epochs=1,\n",
    "                                      device=device,\n",
    "                                      checkpoint_folder=checkpoint_folder,\n",
    "                                      additional_info={'dataset_train': dataset_train.get_info(),\n",
    "                                                       'dataset_val': dataset_val.get_info(),\n",
    "                                                       'dataset_test': dataset_test.get_info()})\n",
    "\n",
    "dataset_train.save_info(os.path.join(checkpoint_folder, 'dataset_train_info.json'))\n",
    "dataset_val.save_info(os.path.join(checkpoint_folder, 'dataset_val_info.json'))\n",
    "dataset_test.save_info(os.path.join(checkpoint_folder, 'dataset_test_info.json'))"
   ]
  },
  {
   "attachments": {},
   "cell_type": "markdown",
   "metadata": {},
   "source": [
    "Plot train and validation loss"
   ]
  },
  {
   "cell_type": "code",
   "execution_count": null,
   "metadata": {},
   "outputs": [],
   "source": [
    "train_loss = np.loadtxt(os.path.join(checkpoint_folder, \"loss_history.csv\"))\n",
    "val_loss = np.loadtxt(os.path.join(checkpoint_folder, \"loss_history_val.csv\"))\n",
    "\n",
    "fig, ax = plt.subplots()\n",
    "ax.set_yscale('log')\n",
    "\n",
    "ax.plot(train_loss, label='train loss')\n",
    "ax.plot(val_loss, label='val loss')\n",
    "\n",
    "ax.set_xlabel(\"Epoch\")\n",
    "ax.set_ylabel(\"Loss\")\n",
    "\n",
    "ax.legend()\n",
    "\n",
    "plt.show()"
   ]
  },
  {
   "attachments": {},
   "cell_type": "markdown",
   "metadata": {},
   "source": [
    "Load weights from checkpoint"
   ]
  },
  {
   "cell_type": "code",
   "execution_count": null,
   "metadata": {},
   "outputs": [],
   "source": [
    "model.to(device)\n",
    "# model.load(\"checkpoints\\checkpoints_360_640_mse_old\\checkpoint_0007_best.ckpt\", device=device)\n",
    "model.load(\"checkpoints/tracknet_v2_mse_360_640/checkpoint_0010_best.ckpt\", device=device)\n",
    "model.eval();"
   ]
  },
  {
   "attachments": {},
   "cell_type": "markdown",
   "metadata": {},
   "source": [
    "# Test"
   ]
  },
  {
   "attachments": {},
   "cell_type": "markdown",
   "metadata": {},
   "source": [
    "## Compute predicted positions"
   ]
  },
  {
   "cell_type": "code",
   "execution_count": null,
   "metadata": {},
   "outputs": [],
   "source": [
    "from utils.testing import compute_positions\n",
    "from torch.utils.data import Subset"
   ]
  },
  {
   "cell_type": "code",
   "execution_count": null,
   "metadata": {},
   "outputs": [],
   "source": [
    "# s_size = 10\n",
    "# dataset_test = Subset(dataset_val, np.arange(s_size))\n",
    "# frames = [frame_num for dataset in dataset_test.dataset.datasets for frame_num in dataset._label_df['num'].values][:s_size]\n",
    "# dataset_ids = [i for i, dataset in enumerate(dataset_test.dataset.datasets) for j in range(len(dataset))][:s_size]\n",
    "\n",
    "frames = [frame_num for dataset in dataset_test.datasets for frame_num in dataset._label_df['num'].values]\n",
    "dataset_ids = [i for i, dataset in enumerate(dataset_test.datasets) for j in range(len(dataset))]\n",
    "\n",
    "data_loader_test = DataLoader(dataset_test, batch_size=4)\n",
    "true_positions, predicted_positions, min_values, max_values = compute_positions(model,\n",
    "                                                                                data_loader_test,\n",
    "                                                                                device=device,\n",
    "                                                                                heatmaps_folder=os.path.join(checkpoint_folder, 'heatmaps'))\n",
    "\n",
    "df_out = pd.DataFrame({'dataset_id': dataset_ids,\n",
    "                       'frame_num': frames,\n",
    "                       'min_values': min_values,\n",
    "                       'max_values': max_values,\n",
    "                       'x_true': true_positions[:,0]/image_size[1],\n",
    "                       'y_true': true_positions[:,1]/image_size[0],\n",
    "                       'x_pred': predicted_positions[:,0]/image_size[1],\n",
    "                       'y_pred': predicted_positions[:,1]/image_size[0]})\n",
    "\n",
    "df_out.to_csv(os.path.join(checkpoint_folder, 'val_output.csv'), index=False)"
   ]
  },
  {
   "attachments": {},
   "cell_type": "markdown",
   "metadata": {},
   "source": [
    "# Show example"
   ]
  },
  {
   "attachments": {},
   "cell_type": "markdown",
   "metadata": {},
   "source": [
    "Get maximum of the heatmap"
   ]
  },
  {
   "cell_type": "code",
   "execution_count": null,
   "metadata": {},
   "outputs": [],
   "source": [
    "from utils.testing import get_maximum_coordinates"
   ]
  },
  {
   "attachments": {},
   "cell_type": "markdown",
   "metadata": {},
   "source": [
    "Produce output heatmap"
   ]
  },
  {
   "cell_type": "code",
   "execution_count": null,
   "metadata": {},
   "outputs": [],
   "source": [
    "frame_id = 56\n",
    "\n",
    "frames, heatmaps = dataset_val[frame_id]\n",
    "heatmaps_np = heatmaps.numpy()\n",
    "frames_np = frames.numpy()[-3:].transpose(1, 2, 0)\n",
    "\n",
    "with torch.no_grad():\n",
    "    outputs = model(frames[None, :].to(device))\n",
    "outputs_np = outputs.to('cpu').numpy()[0].transpose(0, 1, 2)"
   ]
  },
  {
   "cell_type": "code",
   "execution_count": null,
   "metadata": {},
   "outputs": [],
   "source": [
    "w, h, dpi = 1280, 720, 150\n",
    "\n",
    "fig, ax = plt.subplots(figsize=(w/dpi, h/dpi), dpi=dpi)\n",
    "\n",
    "ax.imshow(frames_np)\n",
    "\n",
    "ax.imshow(outputs_np[0], cmap='magma', alpha=0.5)\n",
    "ax.scatter(*get_maximum_coordinates(heatmaps_np[0]), color='w', label='True position', alpha=0.8)\n",
    "ax.scatter(*get_maximum_coordinates(outputs_np[0]), color='y', label='Predicted position', alpha=0.8)\n",
    "\n",
    "ax.legend(framealpha=0.5)\n",
    "\n",
    "ax.set_axis_off()\n",
    "\n",
    "fig.tight_layout(pad=0)\n",
    "fig.savefig(\"boh.png\")\n",
    "\n",
    "plt.show()"
   ]
  },
  {
   "cell_type": "code",
   "execution_count": null,
   "metadata": {},
   "outputs": [],
   "source": [
    "w, h, dpi = 1280, 720*2, 100\n",
    "\n",
    "fig, axs = plt.subplots(figsize=(w/dpi, h/dpi), dpi=dpi, nrows=2)\n",
    "\n",
    "axs[0].imshow(frames_np)\n",
    "\n",
    "axs[1].imshow(outputs_np[0], cmap='magma')\n",
    "axs[1].scatter(*get_maximum_coordinates(heatmaps_np[0]), color='w', label='True position')\n",
    "axs[1].scatter(*get_maximum_coordinates(outputs_np[0]), color='y', label='Predicted position')\n",
    "\n",
    "axs[1].legend(framealpha=0.5)\n",
    "\n",
    "fig.tight_layout()\n",
    "for ax in axs:\n",
    "    ax.set_axis_off()\n",
    "\n",
    "plt.show()"
   ]
  },
  {
   "attachments": {},
   "cell_type": "markdown",
   "metadata": {},
   "source": [
    "# Duplicate frames demo"
   ]
  },
  {
   "cell_type": "code",
   "execution_count": null,
   "metadata": {},
   "outputs": [],
   "source": [
    "import cv2\n",
    "root = \"../videos/dataset_finales_2020_en/\"\n",
    "cap = cv2.VideoCapture(os.path.join(root, \"video.mp4\"))"
   ]
  },
  {
   "cell_type": "code",
   "execution_count": null,
   "metadata": {},
   "outputs": [],
   "source": [
    "cap.set(cv2.CAP_PROP_POS_FRAMES, 13620)\n",
    "_, frame1 = cap.read()\n",
    "frame1 = cv2.cvtColor(frame1, cv2.COLOR_BGR2RGB)\n",
    "\n",
    "_, frame2 = cap.read()\n",
    "frame2 = cv2.cvtColor(frame2, cv2.COLOR_BGR2RGB)"
   ]
  },
  {
   "cell_type": "code",
   "execution_count": null,
   "metadata": {},
   "outputs": [],
   "source": [
    "plt.imshow(frame1)\n",
    "plt.show()\n",
    "\n",
    "plt.imshow(frame2)\n",
    "plt.show()"
   ]
  },
  {
   "cell_type": "code",
   "execution_count": null,
   "metadata": {},
   "outputs": [],
   "source": [
    "plt.imshow(np.abs(frame2 - frame1))\n",
    "plt.colorbar()\n",
    "plt.show()"
   ]
  },
  {
   "attachments": {},
   "cell_type": "markdown",
   "metadata": {},
   "source": [
    "# Modify additional info for old runs"
   ]
  },
  {
   "cell_type": "code",
   "execution_count": null,
   "metadata": {},
   "outputs": [],
   "source": [
    "from utils.storage import load_checkpoint_dict, save_checkpoint"
   ]
  },
  {
   "cell_type": "code",
   "execution_count": null,
   "metadata": {},
   "outputs": [],
   "source": [
    "#d = load_checkpoint_dict('checkpoints/checkpoints_512_3f_mse')\n",
    "d = load_checkpoint_dict('checkpoints/checkpoints_360_640_mse')"
   ]
  },
  {
   "cell_type": "code",
   "execution_count": null,
   "metadata": {},
   "outputs": [],
   "source": [
    "additional_info = d['additional_info']"
   ]
  },
  {
   "cell_type": "code",
   "execution_count": null,
   "metadata": {},
   "outputs": [],
   "source": [
    "additional_info['dataset_train'] = additional_info_train\n",
    "additional_info['dataset_val'] = additional_info_val"
   ]
  },
  {
   "cell_type": "code",
   "execution_count": null,
   "metadata": {},
   "outputs": [],
   "source": [
    "save_checkpoint(d, 'checkpoints/checkpoints_512_3f_mse')"
   ]
  }
 ],
 "metadata": {
  "kernelspec": {
   "display_name": "pytorch",
   "language": "python",
   "name": "python3"
  },
  "language_info": {
   "codemirror_mode": {
    "name": "ipython",
    "version": 3
   },
   "file_extension": ".py",
   "mimetype": "text/x-python",
   "name": "python",
   "nbconvert_exporter": "python",
   "pygments_lexer": "ipython3",
   "version": "3.9.7"
  },
  "orig_nbformat": 4,
  "vscode": {
   "interpreter": {
    "hash": "695c89e8d1a0e3ecb3b35b5172c9b51550f30a782fca086e9907470f1e458eec"
   }
  }
 },
 "nbformat": 4,
 "nbformat_minor": 2
}

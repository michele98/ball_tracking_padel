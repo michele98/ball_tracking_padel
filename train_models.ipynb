{
 "cells": [
  {
   "cell_type": "code",
   "execution_count": null,
   "metadata": {},
   "outputs": [],
   "source": [
    "import os\n",
    "import numpy as np\n",
    "import matplotlib.pyplot as plt\n",
    "from utils.visualization import show_loss_history\n",
    "\n",
    "%load_ext autoreload\n",
    "%autoreload 2"
   ]
  },
  {
   "cell_type": "code",
   "execution_count": null,
   "metadata": {},
   "outputs": [],
   "source": [
    "from train_configurations import tracknet_v2_rnn_scheduler\n",
    "\n",
    "tracknet_v2_rnn_scheduler.launch_training()\n",
    "show_loss_history(tracknet_v2_rnn_scheduler)"
   ]
  },
  {
   "cell_type": "code",
   "execution_count": null,
   "metadata": {},
   "outputs": [],
   "source": [
    "from train_configurations import tracknet_v2_rnn\n",
    "\n",
    "tracknet_v2_rnn.launch_training()\n",
    "show_loss_history(tracknet_v2_rnn)"
   ]
  },
  {
   "cell_type": "code",
   "execution_count": null,
   "metadata": {},
   "outputs": [],
   "source": [
    "from train_configurations import tracknet_v2_6f\n",
    "\n",
    "tracknet_v2_6f.launch_training()\n",
    "show_loss_history(tracknet_v2_6f)"
   ]
  },
  {
   "cell_type": "code",
   "execution_count": null,
   "metadata": {},
   "outputs": [],
   "source": [
    "from train_configurations import tracknet_v2_5f_5f\n",
    "\n",
    "tracknet_v2_5f_5f.launch_training()\n",
    "show_loss_history(tracknet_v2_5f_5f)"
   ]
  },
  {
   "cell_type": "code",
   "execution_count": null,
   "metadata": {},
   "outputs": [],
   "source": [
    "from train_configurations import tracknet_v2\n",
    "\n",
    "tracknet_v2.launch_training()\n",
    "show_loss_history(tracknet_v2)"
   ]
  },
  {
   "cell_type": "code",
   "execution_count": null,
   "metadata": {},
   "outputs": [],
   "source": [
    "from train_configurations import regnet_y_400mf\n",
    "\n",
    "regnet_y_400mf.launch_training()\n",
    "show_loss_history(regnet_y_400mf)"
   ]
  },
  {
   "cell_type": "code",
   "execution_count": null,
   "metadata": {},
   "outputs": [],
   "source": [
    "from train_configurations import regnet_y_800mf\n",
    "\n",
    "regnet_y_800mf.launch_training()\n",
    "show_loss_history(regnet_y_800mf)"
   ]
  }
 ],
 "metadata": {
  "kernelspec": {
   "display_name": "pytorch",
   "language": "python",
   "name": "python3"
  },
  "language_info": {
   "codemirror_mode": {
    "name": "ipython",
    "version": 3
   },
   "file_extension": ".py",
   "mimetype": "text/x-python",
   "name": "python",
   "nbconvert_exporter": "python",
   "pygments_lexer": "ipython3",
   "version": "3.9.7"
  },
  "orig_nbformat": 4
 },
 "nbformat": 4,
 "nbformat_minor": 2
}

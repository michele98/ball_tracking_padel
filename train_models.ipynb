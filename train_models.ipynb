{
 "cells": [
  {
   "cell_type": "code",
   "execution_count": null,
   "metadata": {},
   "outputs": [],
   "source": [
    "import os\n",
    "import numpy as np\n",
    "import matplotlib.pyplot as plt\n",
    "\n",
    "%load_ext autoreload\n",
    "%autoreload 2"
   ]
  },
  {
   "cell_type": "code",
   "execution_count": null,
   "metadata": {},
   "outputs": [],
   "source": [
    "def show_loss_history(module):\n",
    "    try:\n",
    "        train_loss = np.loadtxt(os.path.join(module.Config()._checkpoint_folder, \"loss_history.csv\"))\n",
    "        val_loss = np.loadtxt(os.path.join(module.Config()._checkpoint_folder, \"loss_history_val.csv\"))\n",
    "    except OSError:\n",
    "        phases = ['phase_1_0', 'phase_1_1', 'phase_2_0', 'phase_2_1', 'phase_3_0', 'phase_3_1']\n",
    "\n",
    "        train_loss = []\n",
    "        val_loss = []\n",
    "\n",
    "        for phase in phases:\n",
    "            folder = os.path.join(module.Config()._checkpoint_folder, phase)\n",
    "\n",
    "            train_loss.append(np.loadtxt(os.path.join(folder, \"loss_history.csv\")))\n",
    "            val_loss.append(np.loadtxt(os.path.join(folder, \"loss_history_val.csv\")))\n",
    "\n",
    "        train_loss = np.concatenate(train_loss)\n",
    "        val_loss = np.concatenate(val_loss)\n",
    "\n",
    "    fig, ax = plt.subplots()\n",
    "    ax.set_yscale('log')\n",
    "\n",
    "    ax.plot(train_loss, label='train loss')\n",
    "    ax.plot(val_loss, label='val loss')\n",
    "\n",
    "    ax.set_xlabel(\"Epoch\")\n",
    "    ax.set_ylabel(\"Loss\")\n",
    "\n",
    "    ax.legend()\n",
    "\n",
    "    fig.tight_layout()\n",
    "\n",
    "    plt.show()"
   ]
  },
  {
   "cell_type": "code",
   "execution_count": null,
   "metadata": {},
   "outputs": [],
   "source": [
    "from train_configurations import tracknet_v2_rnn_scheduler\n",
    "\n",
    "tracknet_v2_rnn_scheduler.launch_training()\n",
    "show_loss_history(tracknet_v2_rnn_scheduler)"
   ]
  },
  {
   "cell_type": "code",
   "execution_count": null,
   "metadata": {},
   "outputs": [],
   "source": [
    "from train_configurations import tracknet_v2_rnn\n",
    "\n",
    "tracknet_v2_rnn.launch_training()\n",
    "show_loss_history(tracknet_v2_rnn)"
   ]
  },
  {
   "cell_type": "code",
   "execution_count": null,
   "metadata": {},
   "outputs": [],
   "source": [
    "from train_configurations import tracknet_v2_6f\n",
    "\n",
    "tracknet_v2_6f.launch_training()\n",
    "show_loss_history(tracknet_v2_6f)"
   ]
  },
  {
   "cell_type": "code",
   "execution_count": null,
   "metadata": {},
   "outputs": [],
   "source": [
    "from train_configurations import tracknet_v2_5f_5f\n",
    "\n",
    "tracknet_v2_5f_5f.launch_training()\n",
    "show_loss_history(tracknet_v2_5f_5f)"
   ]
  },
  {
   "cell_type": "code",
   "execution_count": null,
   "metadata": {},
   "outputs": [],
   "source": [
    "from train_configurations import tracknet_v2\n",
    "\n",
    "tracknet_v2.launch_training()\n",
    "show_loss_history(tracknet_v2)"
   ]
  },
  {
   "cell_type": "code",
   "execution_count": null,
   "metadata": {},
   "outputs": [],
   "source": [
    "from train_configurations import regnet_y_400mf\n",
    "\n",
    "regnet_y_400mf.launch_training()\n",
    "show_loss_history(regnet_y_400mf)"
   ]
  },
  {
   "cell_type": "code",
   "execution_count": null,
   "metadata": {},
   "outputs": [],
   "source": [
    "from train_configurations import regnet_y_800mf\n",
    "\n",
    "regnet_y_800mf.launch_training()\n",
    "show_loss_history(regnet_y_800mf)"
   ]
  }
 ],
 "metadata": {
  "kernelspec": {
   "display_name": "pytorch",
   "language": "python",
   "name": "python3"
  },
  "language_info": {
   "codemirror_mode": {
    "name": "ipython",
    "version": 3
   },
   "file_extension": ".py",
   "mimetype": "text/x-python",
   "name": "python",
   "nbconvert_exporter": "python",
   "pygments_lexer": "ipython3",
   "version": "3.9.7"
  },
  "orig_nbformat": 4
 },
 "nbformat": 4,
 "nbformat_minor": 2
}
